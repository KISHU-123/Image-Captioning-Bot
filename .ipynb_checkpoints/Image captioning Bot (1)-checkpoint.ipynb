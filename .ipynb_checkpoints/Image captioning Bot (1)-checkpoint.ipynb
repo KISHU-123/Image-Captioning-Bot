{
 "cells": [
  {
   "cell_type": "markdown",
   "metadata": {
    "id": "vAW0i8sbHeFo"
   },
   "source": [
    "### Image Captioning \n",
    " - Generating Captions for image"
   ]
  },
  {
   "cell_type": "markdown",
   "metadata": {
    "id": "43UD0HCbHeFp"
   },
   "source": [
    "### Steps\n",
    "\n",
    "  - Data collection\n",
    "  - Understanding the data\n",
    "  - Data Cleaning\n",
    "  - Loading the training set\n",
    "  - Data Preprocessing -Images\n",
    "  - Data Preprocessing -Captions\n",
    "  - Data generation using generator Function\n",
    "  - Word Embedding\n",
    "  - Model Architecture\n",
    "  - Inference\n",
    "  - Evaluation"
   ]
  },
  {
   "cell_type": "code",
   "execution_count": null,
   "metadata": {
    "executionInfo": {
     "elapsed": 3835,
     "status": "ok",
     "timestamp": 1601276608114,
     "user": {
      "displayName": "kishu rai",
      "photoUrl": "",
      "userId": "03084149204407627434"
     },
     "user_tz": -330
    },
    "id": "Q7UNo36JHeFq"
   },
   "outputs": [],
   "source": [
    "import pandas as pd\n",
    "import numpy as np\n",
    "import matplotlib.pyplot as plt\n",
    "import keras\n",
    "import re\n",
    "import nltk\n",
    "from nltk.corpus import stopwords\n",
    "import string\n",
    "import json\n",
    "from time import time\n",
    "import pickle\n",
    "from keras.applications.vgg16 import VGG16\n",
    "from keras.applications.resnet50 import ResNet50, preprocess_input, decode_predictions\n",
    "from keras.preprocessing import image\n",
    "from keras.models import Model, load_model\n",
    "from keras.preprocessing.sequence import pad_sequences\n",
    "from keras.utils import to_categorical\n",
    "from keras.layers import Input, Dense, Dropout, Embedding, LSTM\n",
    "from keras.layers.merge import add\n"
   ]
  },
  {
   "cell_type": "code",
   "execution_count": 3,
   "metadata": {
    "colab": {
     "base_uri": "https://localhost:8080/",
     "height": 54
    },
    "executionInfo": {
     "elapsed": 1834,
     "status": "ok",
     "timestamp": 1601276647482,
     "user": {
      "displayName": "kishu rai",
      "photoUrl": "",
      "userId": "03084149204407627434"
     },
     "user_tz": -330
    },
    "id": "S63gDSHTPTr5",
    "outputId": "8e81f231-d438-49ff-8b7a-9aa011caaf6d"
   },
   "outputs": [
    {
     "name": "stdout",
     "output_type": "stream",
     "text": [
      "Drive already mounted at /content/drive; to attempt to forcibly remount, call drive.mount(\"/content/drive\", force_remount=True).\n"
     ]
    }
   ],
   "source": [
    "from google.colab import drive\n",
    "drive.mount('/content/drive')"
   ]
  },
  {
   "cell_type": "code",
   "execution_count": 4,
   "metadata": {
    "executionInfo": {
     "elapsed": 31611,
     "status": "ok",
     "timestamp": 1601276680037,
     "user": {
      "displayName": "kishu rai",
      "photoUrl": "",
      "userId": "03084149204407627434"
     },
     "user_tz": -330
    },
    "id": "2sWQCtHePlu1"
   },
   "outputs": [],
   "source": [
    "!unzip -uq \"/content/drive/My Drive/Image captioning.zip\""
   ]
  },
  {
   "cell_type": "code",
   "execution_count": 5,
   "metadata": {
    "colab": {
     "base_uri": "https://localhost:8080/",
     "height": 34
    },
    "executionInfo": {
     "elapsed": 1109,
     "status": "ok",
     "timestamp": 1601276684868,
     "user": {
      "displayName": "kishu rai",
      "photoUrl": "",
      "userId": "03084149204407627434"
     },
     "user_tz": -330
    },
    "id": "LqN94vwLQTvo",
    "outputId": "6ddc8d58-aa62-4c5c-a73c-3f778d3a8c3c"
   },
   "outputs": [
    {
     "name": "stdout",
     "output_type": "stream",
     "text": [
      " drive\t'Image captioning'   sample_data\n"
     ]
    }
   ],
   "source": [
    "!ls"
   ]
  },
  {
   "cell_type": "code",
   "execution_count": 6,
   "metadata": {
    "executionInfo": {
     "elapsed": 1091,
     "status": "ok",
     "timestamp": 1601276686807,
     "user": {
      "displayName": "kishu rai",
      "photoUrl": "",
      "userId": "03084149204407627434"
     },
     "user_tz": -330
    },
    "id": "KWc_T_qY5lDo"
   },
   "outputs": [],
   "source": [
    "copied_path =\"/content/drive/My Drive/Colab Notebooks/glove.6B.50d.txt\" #remove ‘content/’ from path then use \n"
   ]
  },
  {
   "cell_type": "code",
   "execution_count": 7,
   "metadata": {
    "executionInfo": {
     "elapsed": 800,
     "status": "ok",
     "timestamp": 1601276688403,
     "user": {
      "displayName": "kishu rai",
      "photoUrl": "",
      "userId": "03084149204407627434"
     },
     "user_tz": -330
    },
    "id": "8rmWN6rRHeFu"
   },
   "outputs": [],
   "source": [
    "# Read Text Captions\n",
    "\n",
    "def readTextFile(path):\n",
    "    with open(path) as f:\n",
    "        captions = f.read()\n",
    "    return captions"
   ]
  },
  {
   "cell_type": "code",
   "execution_count": 8,
   "metadata": {
    "executionInfo": {
     "elapsed": 1875,
     "status": "ok",
     "timestamp": 1601276691994,
     "user": {
      "displayName": "kishu rai",
      "photoUrl": "",
      "userId": "03084149204407627434"
     },
     "user_tz": -330
    },
    "id": "xlUZRcaDHeFy"
   },
   "outputs": [],
   "source": [
    "captions = readTextFile('Image captioning/Flickr_Data/Flickr_Data/Flickr_TextData/Flickr8k.token.txt')\n",
    "captions = captions.split(\"\\n\")[:-1]\n"
   ]
  },
  {
   "cell_type": "code",
   "execution_count": 9,
   "metadata": {
    "colab": {
     "base_uri": "https://localhost:8080/",
     "height": 34
    },
    "executionInfo": {
     "elapsed": 1164,
     "status": "ok",
     "timestamp": 1601276694895,
     "user": {
      "displayName": "kishu rai",
      "photoUrl": "",
      "userId": "03084149204407627434"
     },
     "user_tz": -330
    },
    "id": "aD3Ih8sDHeF1",
    "outputId": "4ebb0a86-6b8c-447f-abd2-df202f75e6a6"
   },
   "outputs": [
    {
     "data": {
      "text/plain": [
       "40460"
      ]
     },
     "execution_count": 9,
     "metadata": {
      "tags": []
     },
     "output_type": "execute_result"
    }
   ],
   "source": [
    "\n",
    "len(captions)"
   ]
  },
  {
   "cell_type": "code",
   "execution_count": 10,
   "metadata": {
    "colab": {
     "base_uri": "https://localhost:8080/",
     "height": 51
    },
    "executionInfo": {
     "elapsed": 1314,
     "status": "ok",
     "timestamp": 1601276696705,
     "user": {
      "displayName": "kishu rai",
      "photoUrl": "",
      "userId": "03084149204407627434"
     },
     "user_tz": -330
    },
    "id": "Gm-_vB5r_tyc",
    "outputId": "5fc8b4f2-700a-47b2-d2fd-eb4aa322d82f"
   },
   "outputs": [
    {
     "name": "stdout",
     "output_type": "stream",
     "text": [
      "1000268201_693b08cb0e\n",
      "A child in a pink dress is climbing up a set of stairs in an entry way .\n"
     ]
    }
   ],
   "source": [
    "first,second  = captions[0].split('\\t')\n",
    "print(first.split(\".\")[0])\n",
    "print(second)"
   ]
  },
  {
   "cell_type": "code",
   "execution_count": 11,
   "metadata": {
    "executionInfo": {
     "elapsed": 1337,
     "status": "ok",
     "timestamp": 1601276698507,
     "user": {
      "displayName": "kishu rai",
      "photoUrl": "",
      "userId": "03084149204407627434"
     },
     "user_tz": -330
    },
    "id": "aylzb9LxHeF5"
   },
   "outputs": [],
   "source": [
    "#Dictionary to Map each image with the list of captions it has\n",
    "descriptions = {}\n",
    "\n",
    "for x in captions:\n",
    "    first,second = x.split('\\t')\n",
    "    img_name = first.split(\".\")[0]\n",
    "    \n",
    "    #if the image id is already present or not\n",
    "    if descriptions.get(img_name) is None:\n",
    "        descriptions[img_name] = []\n",
    "    \n",
    "    descriptions[img_name].append(second)\n",
    "        \n",
    "    "
   ]
  },
  {
   "cell_type": "code",
   "execution_count": 12,
   "metadata": {
    "colab": {
     "base_uri": "https://localhost:8080/",
     "height": 102
    },
    "executionInfo": {
     "elapsed": 1500,
     "status": "ok",
     "timestamp": 1601276700702,
     "user": {
      "displayName": "kishu rai",
      "photoUrl": "",
      "userId": "03084149204407627434"
     },
     "user_tz": -330
    },
    "id": "twanR9b-HeGD",
    "outputId": "a052c82c-f746-4a14-c684-4c4d467fde6e"
   },
   "outputs": [
    {
     "data": {
      "text/plain": [
       "['A child in a pink dress is climbing up a set of stairs in an entry way .',\n",
       " 'A girl going into a wooden building .',\n",
       " 'A little girl climbing into a wooden playhouse .',\n",
       " 'A little girl climbing the stairs to her playhouse .',\n",
       " 'A little girl in a pink dress going into a wooden cabin .']"
      ]
     },
     "execution_count": 12,
     "metadata": {
      "tags": []
     },
     "output_type": "execute_result"
    }
   ],
   "source": [
    "\n",
    "descriptions['1000268201_693b08cb0e']"
   ]
  },
  {
   "cell_type": "code",
   "execution_count": 13,
   "metadata": {
    "executionInfo": {
     "elapsed": 2108,
     "status": "ok",
     "timestamp": 1601276703288,
     "user": {
      "displayName": "kishu rai",
      "photoUrl": "",
      "userId": "03084149204407627434"
     },
     "user_tz": -330
    },
    "id": "_jdb_IVHHeGG"
   },
   "outputs": [],
   "source": [
    "Img_path = 'Image captioning/Flickr_Data/Flickr_Data/Images/'\n",
    "import cv2\n",
    "import matplotlib.pyplot as plt"
   ]
  },
  {
   "cell_type": "code",
   "execution_count": 14,
   "metadata": {
    "colab": {
     "base_uri": "https://localhost:8080/",
     "height": 269
    },
    "executionInfo": {
     "elapsed": 2005,
     "status": "ok",
     "timestamp": 1601276705944,
     "user": {
      "displayName": "kishu rai",
      "photoUrl": "",
      "userId": "03084149204407627434"
     },
     "user_tz": -330
    },
    "id": "Qc688P7bHeGK",
    "outputId": "948cb975-80fe-4bf0-cc67-0ad5beac7aa6",
    "scrolled": true
   },
   "outputs": [
    {
     "data": {
      "image/png": "[encoded data removed]",
      "text/plain": [
       "<Figure size 432x288 with 1 Axes>"
      ]
     },
     "metadata": {
      "needs_background": "light",
      "tags": []
     },
     "output_type": "display_data"
    }
   ],
   "source": [
    "img = cv2.imread(Img_path+'1000268201_693b08cb0e.jpg')\n",
    "img = cv2.cvtColor(img,cv2.COLOR_BGR2RGB)\n",
    "plt.imshow(img)\n",
    "plt.show()"
   ]
  },
  {
   "cell_type": "markdown",
   "metadata": {
    "id": "lv0RxCdEHeGO"
   },
   "source": [
    "### Data cleaning"
   ]
  },
  {
   "cell_type": "code",
   "execution_count": 15,
   "metadata": {
    "executionInfo": {
     "elapsed": 1411,
     "status": "ok",
     "timestamp": 1601276708779,
     "user": {
      "displayName": "kishu rai",
      "photoUrl": "",
      "userId": "03084149204407627434"
     },
     "user_tz": -330
    },
    "id": "itabNKLwHeGO"
   },
   "outputs": [],
   "source": [
    "def clean_text(sentence):\n",
    "    sentence = sentence.lower()\n",
    "    sentence = re.sub(\"[^a-z]+\",\" \",sentence)\n",
    "    sentence = sentence.split()\n",
    "    \n",
    "    sentence  = [s for s in sentence if len(s)>1]\n",
    "    sentence = \" \".join(sentence)\n",
    "    return sentence"
   ]
  },
  {
   "cell_type": "code",
   "execution_count": 16,
   "metadata": {
    "colab": {
     "base_uri": "https://localhost:8080/",
     "height": 35
    },
    "executionInfo": {
     "elapsed": 1305,
     "status": "ok",
     "timestamp": 1601276710606,
     "user": {
      "displayName": "kishu rai",
      "photoUrl": "",
      "userId": "03084149204407627434"
     },
     "user_tz": -330
    },
    "id": "Pt1N2sUcHeGS",
    "outputId": "4143a540-61c6-410e-e02a-4d85824e0b44"
   },
   "outputs": [
    {
     "data": {
      "application/vnd.google.colaboratory.intrinsic+json": {
       "type": "string"
      },
      "text/plain": [
       "'cat is sitting over the house number'"
      ]
     },
     "execution_count": 16,
     "metadata": {
      "tags": []
     },
     "output_type": "execute_result"
    }
   ],
   "source": [
    "clean_text(\"A cat is sitting over the house @ number 64\")"
   ]
  },
  {
   "cell_type": "code",
   "execution_count": 17,
   "metadata": {
    "executionInfo": {
     "elapsed": 981,
     "status": "ok",
     "timestamp": 1601276712071,
     "user": {
      "displayName": "kishu rai",
      "photoUrl": "",
      "userId": "03084149204407627434"
     },
     "user_tz": -330
    },
    "id": "ZShdD51JHeGW"
   },
   "outputs": [],
   "source": [
    "# Clean all Captions\n",
    "for key,caption_list in descriptions.items():\n",
    "    for i in range(len(caption_list)):\n",
    "        caption_list[i] = clean_text(caption_list[i])\n"
   ]
  },
  {
   "cell_type": "code",
   "execution_count": 18,
   "metadata": {
    "colab": {
     "base_uri": "https://localhost:8080/",
     "height": 102
    },
    "executionInfo": {
     "elapsed": 1286,
     "status": "ok",
     "timestamp": 1601276713842,
     "user": {
      "displayName": "kishu rai",
      "photoUrl": "",
      "userId": "03084149204407627434"
     },
     "user_tz": -330
    },
    "id": "2zJ8VyIxHeGY",
    "outputId": "f0d96dad-5027-431b-fcac-4b54ee29ca04"
   },
   "outputs": [
    {
     "data": {
      "text/plain": [
       "['child in pink dress is climbing up set of stairs in an entry way',\n",
       " 'girl going into wooden building',\n",
       " 'little girl climbing into wooden playhouse',\n",
       " 'little girl climbing the stairs to her playhouse',\n",
       " 'little girl in pink dress going into wooden cabin']"
      ]
     },
     "execution_count": 18,
     "metadata": {
      "tags": []
     },
     "output_type": "execute_result"
    }
   ],
   "source": [
    "descriptions['1000268201_693b08cb0e']"
   ]
  },
  {
   "cell_type": "code",
   "execution_count": 19,
   "metadata": {
    "executionInfo": {
     "elapsed": 1797,
     "status": "ok",
     "timestamp": 1601276715404,
     "user": {
      "displayName": "kishu rai",
      "photoUrl": "",
      "userId": "03084149204407627434"
     },
     "user_tz": -330
    },
    "id": "dsjXMJZlHeGb"
   },
   "outputs": [],
   "source": [
    "#write the data to a text file\n",
    "with open(\"descriptions_1.txt\",\"w\") as f:\n",
    "    f.write(str(descriptions))\n",
    "    "
   ]
  },
  {
   "cell_type": "markdown",
   "metadata": {
    "id": "xROkxs4-HeGd"
   },
   "source": [
    "### Vocabulary"
   ]
  },
  {
   "cell_type": "code",
   "execution_count": 20,
   "metadata": {
    "executionInfo": {
     "elapsed": 1809,
     "status": "ok",
     "timestamp": 1601276718288,
     "user": {
      "displayName": "kishu rai",
      "photoUrl": "",
      "userId": "03084149204407627434"
     },
     "user_tz": -330
    },
    "id": "hGnsBKelHeGe"
   },
   "outputs": [],
   "source": [
    "descriptions = None\n",
    "with open(\"descriptions_1.txt\",'r') as f:\n",
    "    descriptions= f.read()\n",
    "    \n",
    "json_acceptable_string = descriptions.replace(\"'\",\"\\\"\")\n",
    "descriptions = json.loads(json_acceptable_string)"
   ]
  },
  {
   "cell_type": "code",
   "execution_count": 21,
   "metadata": {
    "colab": {
     "base_uri": "https://localhost:8080/",
     "height": 34
    },
    "executionInfo": {
     "elapsed": 902,
     "status": "ok",
     "timestamp": 1601276718892,
     "user": {
      "displayName": "kishu rai",
      "photoUrl": "",
      "userId": "03084149204407627434"
     },
     "user_tz": -330
    },
    "id": "30nD-7I7HeGg",
    "outputId": "a8aa971c-a394-44df-ef0a-c6f29459ab36"
   },
   "outputs": [
    {
     "data": {
      "text/plain": [
       "dict"
      ]
     },
     "execution_count": 21,
     "metadata": {
      "tags": []
     },
     "output_type": "execute_result"
    }
   ],
   "source": [
    "type(descriptions)"
   ]
  },
  {
   "cell_type": "code",
   "execution_count": 22,
   "metadata": {
    "colab": {
     "base_uri": "https://localhost:8080/",
     "height": 34
    },
    "executionInfo": {
     "elapsed": 1517,
     "status": "ok",
     "timestamp": 1601276720747,
     "user": {
      "displayName": "kishu rai",
      "photoUrl": "",
      "userId": "03084149204407627434"
     },
     "user_tz": -330
    },
    "id": "4prSGHytHeGk",
    "outputId": "55eb3fb3-8e07-4916-e9c4-980c7e38e43e"
   },
   "outputs": [
    {
     "name": "stdout",
     "output_type": "stream",
     "text": [
      "Vocab Size : 8424\n"
     ]
    }
   ],
   "source": [
    "# Vocab\n",
    "\n",
    "vocab = set()\n",
    "for key in descriptions.keys():\n",
    "    [vocab.update(sentence.split()) for sentence in descriptions[key]]\n",
    "    \n",
    "print(\"Vocab Size : %d\"% len(vocab))\n",
    "#unique words                "
   ]
  },
  {
   "cell_type": "code",
   "execution_count": 23,
   "metadata": {
    "colab": {
     "base_uri": "https://localhost:8080/",
     "height": 34
    },
    "executionInfo": {
     "elapsed": 953,
     "status": "ok",
     "timestamp": 1601276721230,
     "user": {
      "displayName": "kishu rai",
      "photoUrl": "",
      "userId": "03084149204407627434"
     },
     "user_tz": -330
    },
    "id": "10oz4e_HHeGn",
    "outputId": "1b0f86ae-403a-4fff-d839-36bbfd85068d"
   },
   "outputs": [
    {
     "name": "stdout",
     "output_type": "stream",
     "text": [
      "Total Words 373837\n"
     ]
    }
   ],
   "source": [
    "#remove very in frequent words\n",
    "# Total No of words across all the sentences\n",
    "total_words = []\n",
    "\n",
    "for key in descriptions.keys():\n",
    "    [total_words.append(i) for des in descriptions[key] for i in des.split()]\n",
    "    \n",
    "print(\"Total Words %d\"%len(total_words))"
   ]
  },
  {
   "cell_type": "code",
   "execution_count": 24,
   "metadata": {
    "colab": {
     "base_uri": "https://localhost:8080/",
     "height": 34
    },
    "executionInfo": {
     "elapsed": 1126,
     "status": "ok",
     "timestamp": 1601276723360,
     "user": {
      "displayName": "kishu rai",
      "photoUrl": "",
      "userId": "03084149204407627434"
     },
     "user_tz": -330
    },
    "id": "aoCv_PdjHeGp",
    "outputId": "2e1582e7-3587-4223-ac02-f13089f22555"
   },
   "outputs": [
    {
     "name": "stdout",
     "output_type": "stream",
     "text": [
      "['child', 'in', 'pink', 'dress', 'is', 'climbing', 'up', 'set', 'of', 'stairs']\n"
     ]
    }
   ],
   "source": [
    "print(total_words[:10])"
   ]
  },
  {
   "cell_type": "code",
   "execution_count": 25,
   "metadata": {
    "executionInfo": {
     "elapsed": 1097,
     "status": "ok",
     "timestamp": 1601276724741,
     "user": {
      "displayName": "kishu rai",
      "photoUrl": "",
      "userId": "03084149204407627434"
     },
     "user_tz": -330
    },
    "id": "n_0jCEiMHeGs"
   },
   "outputs": [],
   "source": [
    "#filter the words form vocab according to certain threshold frequency\n",
    "import collections"
   ]
  },
  {
   "cell_type": "code",
   "execution_count": 26,
   "metadata": {
    "colab": {
     "base_uri": "https://localhost:8080/",
     "height": 34
    },
    "executionInfo": {
     "elapsed": 1082,
     "status": "ok",
     "timestamp": 1601276725974,
     "user": {
      "displayName": "kishu rai",
      "photoUrl": "",
      "userId": "03084149204407627434"
     },
     "user_tz": -330
    },
    "id": "7jtD-Ob8HeGu",
    "outputId": "65ce1de3-c290-47d7-c41f-ff28f8bfb2ba"
   },
   "outputs": [
    {
     "name": "stdout",
     "output_type": "stream",
     "text": [
      "8424\n"
     ]
    }
   ],
   "source": [
    "counter = collections.Counter(total_words)\n",
    "freq_cnt = dict(counter)\n",
    "print(len(freq_cnt.keys()))"
   ]
  },
  {
   "cell_type": "code",
   "execution_count": 27,
   "metadata": {
    "executionInfo": {
     "elapsed": 1228,
     "status": "ok",
     "timestamp": 1601276727364,
     "user": {
      "displayName": "kishu rai",
      "photoUrl": "",
      "userId": "03084149204407627434"
     },
     "user_tz": -330
    },
    "id": "F9Hyld7rHeGw"
   },
   "outputs": [],
   "source": [
    "# Sort this dictionary according to the freq count\n",
    "sorted_freq_cnt = sorted(freq_cnt.items(),reverse=True,key=lambda x:x[1])\n",
    "\n",
    "# Filter\n",
    "threshold = 10\n",
    "sorted_freq_cnt  = [x for x in sorted_freq_cnt if x[1]>threshold]\n",
    "total_words = [x[0] for x in sorted_freq_cnt]\n"
   ]
  },
  {
   "cell_type": "code",
   "execution_count": 28,
   "metadata": {
    "colab": {
     "base_uri": "https://localhost:8080/",
     "height": 34
    },
    "executionInfo": {
     "elapsed": 1113,
     "status": "ok",
     "timestamp": 1601276728364,
     "user": {
      "displayName": "kishu rai",
      "photoUrl": "",
      "userId": "03084149204407627434"
     },
     "user_tz": -330
    },
    "id": "tPYXrwQbHeGz",
    "outputId": "590fc33c-690f-43ea-b288-4aa927d0fd37"
   },
   "outputs": [
    {
     "name": "stdout",
     "output_type": "stream",
     "text": [
      "<class 'list'>\n"
     ]
    }
   ],
   "source": [
    "print(type(sorted_freq_cnt))"
   ]
  },
  {
   "cell_type": "code",
   "execution_count": 29,
   "metadata": {
    "colab": {
     "base_uri": "https://localhost:8080/",
     "height": 34
    },
    "executionInfo": {
     "elapsed": 955,
     "status": "ok",
     "timestamp": 1601276729478,
     "user": {
      "displayName": "kishu rai",
      "photoUrl": "",
      "userId": "03084149204407627434"
     },
     "user_tz": -330
    },
    "id": "RzWGgALFHeG1",
    "outputId": "28a0fd54-e3b4-41da-ade0-be4e26744be3"
   },
   "outputs": [
    {
     "data": {
      "text/plain": [
       "1845"
      ]
     },
     "execution_count": 29,
     "metadata": {
      "tags": []
     },
     "output_type": "execute_result"
    }
   ],
   "source": [
    "len(total_words)"
   ]
  },
  {
   "cell_type": "markdown",
   "metadata": {
    "id": "WlqLqx6vHeG5"
   },
   "source": [
    "### Prepare train/test data\n"
   ]
  },
  {
   "cell_type": "code",
   "execution_count": 30,
   "metadata": {
    "executionInfo": {
     "elapsed": 2043,
     "status": "ok",
     "timestamp": 1601276732341,
     "user": {
      "displayName": "kishu rai",
      "photoUrl": "",
      "userId": "03084149204407627434"
     },
     "user_tz": -330
    },
    "id": "kOSSNuR3HeG5"
   },
   "outputs": [],
   "source": [
    "train_file_data = readTextFile('Image captioning/Flickr_Data/Flickr_Data/Flickr_TextData/Flickr_8k.trainImages.txt')"
   ]
  },
  {
   "cell_type": "code",
   "execution_count": 31,
   "metadata": {
    "executionInfo": {
     "elapsed": 1229,
     "status": "ok",
     "timestamp": 1601276732343,
     "user": {
      "displayName": "kishu rai",
      "photoUrl": "",
      "userId": "03084149204407627434"
     },
     "user_tz": -330
    },
    "id": "HiIcVhHhHeG8"
   },
   "outputs": [],
   "source": [
    "test_file_data =  readTextFile('Image captioning/Flickr_Data/Flickr_Data/Flickr_TextData/Flickr_8k.testImages.txt')"
   ]
  },
  {
   "cell_type": "code",
   "execution_count": 32,
   "metadata": {
    "executionInfo": {
     "elapsed": 1318,
     "status": "ok",
     "timestamp": 1601276734288,
     "user": {
      "displayName": "kishu rai",
      "photoUrl": "",
      "userId": "03084149204407627434"
     },
     "user_tz": -330
    },
    "id": "v1hk8ShFHeG_"
   },
   "outputs": [],
   "source": [
    "train = [row.split(\".\")[0] for row in train_file_data.split(\"\\n\")[:-1]]\n",
    "test = [row.split(\".\")[0] for row in test_file_data.split(\"\\n\")[:-1]]"
   ]
  },
  {
   "cell_type": "code",
   "execution_count": 33,
   "metadata": {
    "executionInfo": {
     "elapsed": 1355,
     "status": "ok",
     "timestamp": 1601276735510,
     "user": {
      "displayName": "kishu rai",
      "photoUrl": "",
      "userId": "03084149204407627434"
     },
     "user_tz": -330
    },
    "id": "u4so0jvcHeHB"
   },
   "outputs": [],
   "source": [
    "# Prepare Description for the Training Data\n",
    "# Tweak - Add <s> and <e> token to our training data\n",
    "train_descriptions = {}\n",
    "\n",
    "for img_id in train:\n",
    "    train_descriptions[img_id] = []\n",
    "    for cap in descriptions[img_id]:\n",
    "        cap_to_append = \"startseq \"  + cap + \" endseq\"\n",
    "        train_descriptions[img_id].append(cap_to_append)"
   ]
  },
  {
   "cell_type": "code",
   "execution_count": 34,
   "metadata": {
    "colab": {
     "base_uri": "https://localhost:8080/",
     "height": 102
    },
    "executionInfo": {
     "elapsed": 1327,
     "status": "ok",
     "timestamp": 1601276736616,
     "user": {
      "displayName": "kishu rai",
      "photoUrl": "",
      "userId": "03084149204407627434"
     },
     "user_tz": -330
    },
    "id": "6oSTFfIMHeHE",
    "outputId": "24735db2-6c99-489d-ce9e-a257b24f22d1"
   },
   "outputs": [
    {
     "data": {
      "text/plain": [
       "['startseq child in pink dress is climbing up set of stairs in an entry way endseq',\n",
       " 'startseq girl going into wooden building endseq',\n",
       " 'startseq little girl climbing into wooden playhouse endseq',\n",
       " 'startseq little girl climbing the stairs to her playhouse endseq',\n",
       " 'startseq little girl in pink dress going into wooden cabin endseq']"
      ]
     },
     "execution_count": 34,
     "metadata": {
      "tags": []
     },
     "output_type": "execute_result"
    }
   ],
   "source": [
    "train_descriptions['1000268201_693b08cb0e']"
   ]
  },
  {
   "cell_type": "markdown",
   "metadata": {
    "id": "kk3LfdWRHeHI"
   },
   "source": [
    "### Transfer learning\n",
    "- images--features\n",
    "\n",
    "- captions to features"
   ]
  },
  {
   "cell_type": "markdown",
   "metadata": {
    "id": "sH9ynmEmHeHI"
   },
   "source": [
    "### Step 1 Image Feature Extraction"
   ]
  },
  {
   "cell_type": "code",
   "execution_count": 35,
   "metadata": {
    "colab": {
     "base_uri": "https://localhost:8080/",
     "height": 1000
    },
    "executionInfo": {
     "elapsed": 13262,
     "status": "ok",
     "timestamp": 1601276752195,
     "user": {
      "displayName": "kishu rai",
      "photoUrl": "",
      "userId": "03084149204407627434"
     },
     "user_tz": -330
    },
    "id": "xdF3cP3gHeHJ",
    "outputId": "e5e6c0b6-252e-4d64-d9e6-9cc1a4ccb6d7"
   },
   "outputs": [
    {
     "name": "stdout",
     "output_type": "stream",
     "text": [
      "Downloading data from https://storage.googleapis.com/tensorflow/keras-applications/resnet/resnet50_weights_tf_dim_ordering_tf_kernels.h5\n",
      "102973440/102967424 [==============================] - 4s 0us/step\n",
      "Model: \"resnet50\"\n",
      "__________________________________________________________________________________________________\n",
      "Layer (type)                    Output Shape         Param #     Connected to                     \n",
      "==================================================================================================\n",
      "input_1 (InputLayer)            [(None, 224, 224, 3) 0                                            \n",
      "__________________________________________________________________________________________________\n",
      "conv1_pad (ZeroPadding2D)       (None, 230, 230, 3)  0           input_1[0][0]                    \n",
      "__________________________________________________________________________________________________\n",
      "conv1_conv (Conv2D)             (None, 112, 112, 64) 9472        conv1_pad[0][0]                  \n",
      "__________________________________________________________________________________________________\n",
      "conv1_bn (BatchNormalization)   (None, 112, 112, 64) 256         conv1_conv[0][0]                 \n",
      "__________________________________________________________________________________________________\n",
      "conv1_relu (Activation)         (None, 112, 112, 64) 0           conv1_bn[0][0]                   \n",
      "__________________________________________________________________________________________________\n",
      "pool1_pad (ZeroPadding2D)       (None, 114, 114, 64) 0           conv1_relu[0][0]                 \n",
      "__________________________________________________________________________________________________\n",
      "pool1_pool (MaxPooling2D)       (None, 56, 56, 64)   0           pool1_pad[0][0]                  \n",
      "__________________________________________________________________________________________________\n",
      "conv2_block1_1_conv (Conv2D)    (None, 56, 56, 64)   4160        pool1_pool[0][0]                 \n",
      "__________________________________________________________________________________________________\n",
      "conv2_block1_1_bn (BatchNormali (None, 56, 56, 64)   256         conv2_block1_1_conv[0][0]        \n",
      "__________________________________________________________________________________________________\n",
      "conv2_block1_1_relu (Activation (None, 56, 56, 64)   0           conv2_block1_1_bn[0][0]          \n",
      "__________________________________________________________________________________________________\n",
      "conv2_block1_2_conv (Conv2D)    (None, 56, 56, 64)   36928       conv2_block1_1_relu[0][0]        \n",
      "__________________________________________________________________________________________________\n",
      "conv2_block1_2_bn (BatchNormali (None, 56, 56, 64)   256         conv2_block1_2_conv[0][0]        \n",
      "__________________________________________________________________________________________________\n",
      "conv2_block1_2_relu (Activation (None, 56, 56, 64)   0           conv2_block1_2_bn[0][0]          \n",
      "__________________________________________________________________________________________________\n",
      "conv2_block1_0_conv (Conv2D)    (None, 56, 56, 256)  16640       pool1_pool[0][0]                 \n",
      "__________________________________________________________________________________________________\n",
      "conv2_block1_3_conv (Conv2D)    (None, 56, 56, 256)  16640       conv2_block1_2_relu[0][0]        \n",
      "__________________________________________________________________________________________________\n",
      "conv2_block1_0_bn (BatchNormali (None, 56, 56, 256)  1024        conv2_block1_0_conv[0][0]        \n",
      "__________________________________________________________________________________________________\n",
      "conv2_block1_3_bn (BatchNormali (None, 56, 56, 256)  1024        conv2_block1_3_conv[0][0]        \n",
      "__________________________________________________________________________________________________\n",
      "conv2_block1_add (Add)          (None, 56, 56, 256)  0           conv2_block1_0_bn[0][0]          \n",
      "                                                                 conv2_block1_3_bn[0][0]          \n",
      "__________________________________________________________________________________________________\n",
      "conv2_block1_out (Activation)   (None, 56, 56, 256)  0           conv2_block1_add[0][0]           \n",
      "__________________________________________________________________________________________________\n",
      "conv2_block2_1_conv (Conv2D)    (None, 56, 56, 64)   16448       conv2_block1_out[0][0]           \n",
      "__________________________________________________________________________________________________\n",
      "conv2_block2_1_bn (BatchNormali (None, 56, 56, 64)   256         conv2_block2_1_conv[0][0]        \n",
      "__________________________________________________________________________________________________\n",
      "conv2_block2_1_relu (Activation (None, 56, 56, 64)   0           conv2_block2_1_bn[0][0]          \n",
      "__________________________________________________________________________________________________\n",
      "conv2_block2_2_conv (Conv2D)    (None, 56, 56, 64)   36928       conv2_block2_1_relu[0][0]        \n",
      "__________________________________________________________________________________________________\n",
      "conv2_block2_2_bn (BatchNormali (None, 56, 56, 64)   256         conv2_block2_2_conv[0][0]        \n",
      "__________________________________________________________________________________________________\n",
      "conv2_block2_2_relu (Activation (None, 56, 56, 64)   0           conv2_block2_2_bn[0][0]          \n",
      "__________________________________________________________________________________________________\n",
      "conv2_block2_3_conv (Conv2D)    (None, 56, 56, 256)  16640       conv2_block2_2_relu[0][0]        \n",
      "__________________________________________________________________________________________________\n",
      "conv2_block2_3_bn (BatchNormali (None, 56, 56, 256)  1024        conv2_block2_3_conv[0][0]        \n",
      "__________________________________________________________________________________________________\n",
      "conv2_block2_add (Add)          (None, 56, 56, 256)  0           conv2_block1_out[0][0]           \n",
      "                                                                 conv2_block2_3_bn[0][0]          \n",
      "__________________________________________________________________________________________________\n",
      "conv2_block2_out (Activation)   (None, 56, 56, 256)  0           conv2_block2_add[0][0]           \n",
      "__________________________________________________________________________________________________\n",
      "conv2_block3_1_conv (Conv2D)    (None, 56, 56, 64)   16448       conv2_block2_out[0][0]           \n",
      "__________________________________________________________________________________________________\n",
      "conv2_block3_1_bn (BatchNormali (None, 56, 56, 64)   256         conv2_block3_1_conv[0][0]        \n",
      "__________________________________________________________________________________________________\n",
      "conv2_block3_1_relu (Activation (None, 56, 56, 64)   0           conv2_block3_1_bn[0][0]          \n",
      "__________________________________________________________________________________________________\n",
      "conv2_block3_2_conv (Conv2D)    (None, 56, 56, 64)   36928       conv2_block3_1_relu[0][0]        \n",
      "__________________________________________________________________________________________________\n",
      "conv2_block3_2_bn (BatchNormali (None, 56, 56, 64)   256         conv2_block3_2_conv[0][0]        \n",
      "__________________________________________________________________________________________________\n",
      "conv2_block3_2_relu (Activation (None, 56, 56, 64)   0           conv2_block3_2_bn[0][0]          \n",
      "__________________________________________________________________________________________________\n",
      "conv2_block3_3_conv (Conv2D)    (None, 56, 56, 256)  16640       conv2_block3_2_relu[0][0]        \n",
      "__________________________________________________________________________________________________\n",
      "conv2_block3_3_bn (BatchNormali (None, 56, 56, 256)  1024        conv2_block3_3_conv[0][0]        \n",
      "__________________________________________________________________________________________________\n",
      "conv2_block3_add (Add)          (None, 56, 56, 256)  0           conv2_block2_out[0][0]           \n",
      "                                                                 conv2_block3_3_bn[0][0]          \n",
      "__________________________________________________________________________________________________\n",
      "conv2_block3_out (Activation)   (None, 56, 56, 256)  0           conv2_block3_add[0][0]           \n",
      "__________________________________________________________________________________________________\n",
      "conv3_block1_1_conv (Conv2D)    (None, 28, 28, 128)  32896       conv2_block3_out[0][0]           \n",
      "__________________________________________________________________________________________________\n",
      "conv3_block1_1_bn (BatchNormali (None, 28, 28, 128)  512         conv3_block1_1_conv[0][0]        \n",
      "__________________________________________________________________________________________________\n",
      "conv3_block1_1_relu (Activation (None, 28, 28, 128)  0           conv3_block1_1_bn[0][0]          \n",
      "__________________________________________________________________________________________________\n",
      "conv3_block1_2_conv (Conv2D)    (None, 28, 28, 128)  147584      conv3_block1_1_relu[0][0]        \n",
      "__________________________________________________________________________________________________\n",
      "conv3_block1_2_bn (BatchNormali (None, 28, 28, 128)  512         conv3_block1_2_conv[0][0]        \n",
      "__________________________________________________________________________________________________\n",
      "conv3_block1_2_relu (Activation (None, 28, 28, 128)  0           conv3_block1_2_bn[0][0]          \n",
      "__________________________________________________________________________________________________\n",
      "conv3_block1_0_conv (Conv2D)    (None, 28, 28, 512)  131584      conv2_block3_out[0][0]           \n",
      "__________________________________________________________________________________________________\n",
      "conv3_block1_3_conv (Conv2D)    (None, 28, 28, 512)  66048       conv3_block1_2_relu[0][0]        \n",
      "__________________________________________________________________________________________________\n",
      "conv3_block1_0_bn (BatchNormali (None, 28, 28, 512)  2048        conv3_block1_0_conv[0][0]        \n",
      "__________________________________________________________________________________________________\n",
      "conv3_block1_3_bn (BatchNormali (None, 28, 28, 512)  2048        conv3_block1_3_conv[0][0]        \n",
      "__________________________________________________________________________________________________\n",
      "conv3_block1_add (Add)          (None, 28, 28, 512)  0           conv3_block1_0_bn[0][0]          \n",
      "                                                                 conv3_block1_3_bn[0][0]          \n",
      "__________________________________________________________________________________________________\n",
      "conv3_block1_out (Activation)   (None, 28, 28, 512)  0           conv3_block1_add[0][0]           \n",
      "__________________________________________________________________________________________________\n",
      "conv3_block2_1_conv (Conv2D)    (None, 28, 28, 128)  65664       conv3_block1_out[0][0]           \n",
      "__________________________________________________________________________________________________\n",
      "conv3_block2_1_bn (BatchNormali (None, 28, 28, 128)  512         conv3_block2_1_conv[0][0]        \n",
      "__________________________________________________________________________________________________\n",
      "conv3_block2_1_relu (Activation (None, 28, 28, 128)  0           conv3_block2_1_bn[0][0]          \n",
      "__________________________________________________________________________________________________\n",
      "conv3_block2_2_conv (Conv2D)    (None, 28, 28, 128)  147584      conv3_block2_1_relu[0][0]        \n",
      "__________________________________________________________________________________________________\n",
      "conv3_block2_2_bn (BatchNormali (None, 28, 28, 128)  512         conv3_block2_2_conv[0][0]        \n",
      "__________________________________________________________________________________________________\n",
      "conv3_block2_2_relu (Activation (None, 28, 28, 128)  0           conv3_block2_2_bn[0][0]          \n",
      "__________________________________________________________________________________________________\n",
      "conv3_block2_3_conv (Conv2D)    (None, 28, 28, 512)  66048       conv3_block2_2_relu[0][0]        \n",
      "__________________________________________________________________________________________________\n",
      "conv3_block2_3_bn (BatchNormali (None, 28, 28, 512)  2048        conv3_block2_3_conv[0][0]        \n",
      "__________________________________________________________________________________________________\n",
      "conv3_block2_add (Add)          (None, 28, 28, 512)  0           conv3_block1_out[0][0]           \n",
      "                                                                 conv3_block2_3_bn[0][0]          \n",
      "__________________________________________________________________________________________________\n",
      "conv3_block2_out (Activation)   (None, 28, 28, 512)  0           conv3_block2_add[0][0]           \n",
      "__________________________________________________________________________________________________\n",
      "conv3_block3_1_conv (Conv2D)    (None, 28, 28, 128)  65664       conv3_block2_out[0][0]           \n",
      "__________________________________________________________________________________________________\n",
      "conv3_block3_1_bn (BatchNormali (None, 28, 28, 128)  512         conv3_block3_1_conv[0][0]        \n",
      "__________________________________________________________________________________________________\n",
      "conv3_block3_1_relu (Activation (None, 28, 28, 128)  0           conv3_block3_1_bn[0][0]          \n",
      "__________________________________________________________________________________________________\n",
      "conv3_block3_2_conv (Conv2D)    (None, 28, 28, 128)  147584      conv3_block3_1_relu[0][0]        \n",
      "__________________________________________________________________________________________________\n",
      "conv3_block3_2_bn (BatchNormali (None, 28, 28, 128)  512         conv3_block3_2_conv[0][0]        \n",
      "__________________________________________________________________________________________________\n",
      "conv3_block3_2_relu (Activation (None, 28, 28, 128)  0           conv3_block3_2_bn[0][0]          \n",
      "__________________________________________________________________________________________________\n",
      "conv3_block3_3_conv (Conv2D)    (None, 28, 28, 512)  66048       conv3_block3_2_relu[0][0]        \n",
      "__________________________________________________________________________________________________\n",
      "conv3_block3_3_bn (BatchNormali (None, 28, 28, 512)  2048        conv3_block3_3_conv[0][0]        \n",
      "__________________________________________________________________________________________________\n",
      "conv3_block3_add (Add)          (None, 28, 28, 512)  0           conv3_block2_out[0][0]           \n",
      "                                                                 conv3_block3_3_bn[0][0]          \n",
      "__________________________________________________________________________________________________\n",
      "conv3_block3_out (Activation)   (None, 28, 28, 512)  0           conv3_block3_add[0][0]           \n",
      "__________________________________________________________________________________________________\n",
      "conv3_block4_1_conv (Conv2D)    (None, 28, 28, 128)  65664       conv3_block3_out[0][0]           \n",
      "__________________________________________________________________________________________________\n",
      "conv3_block4_1_bn (BatchNormali (None, 28, 28, 128)  512         conv3_block4_1_conv[0][0]        \n",
      "__________________________________________________________________________________________________\n",
      "conv3_block4_1_relu (Activation (None, 28, 28, 128)  0           conv3_block4_1_bn[0][0]          \n",
      "__________________________________________________________________________________________________\n",
      "conv3_block4_2_conv (Conv2D)    (None, 28, 28, 128)  147584      conv3_block4_1_relu[0][0]        \n",
      "__________________________________________________________________________________________________\n",
      "conv3_block4_2_bn (BatchNormali (None, 28, 28, 128)  512         conv3_block4_2_conv[0][0]        \n",
      "__________________________________________________________________________________________________\n",
      "conv3_block4_2_relu (Activation (None, 28, 28, 128)  0           conv3_block4_2_bn[0][0]          \n",
      "__________________________________________________________________________________________________\n",
      "conv3_block4_3_conv (Conv2D)    (None, 28, 28, 512)  66048       conv3_block4_2_relu[0][0]        \n",
      "__________________________________________________________________________________________________\n",
      "conv3_block4_3_bn (BatchNormali (None, 28, 28, 512)  2048        conv3_block4_3_conv[0][0]        \n",
      "__________________________________________________________________________________________________\n",
      "conv3_block4_add (Add)          (None, 28, 28, 512)  0           conv3_block3_out[0][0]           \n",
      "                                                                 conv3_block4_3_bn[0][0]          \n",
      "__________________________________________________________________________________________________\n",
      "conv3_block4_out (Activation)   (None, 28, 28, 512)  0           conv3_block4_add[0][0]           \n",
      "__________________________________________________________________________________________________\n",
      "conv4_block1_1_conv (Conv2D)    (None, 14, 14, 256)  131328      conv3_block4_out[0][0]           \n",
      "__________________________________________________________________________________________________\n",
      "conv4_block1_1_bn (BatchNormali (None, 14, 14, 256)  1024        conv4_block1_1_conv[0][0]        \n",
      "__________________________________________________________________________________________________\n",
      "conv4_block1_1_relu (Activation (None, 14, 14, 256)  0           conv4_block1_1_bn[0][0]          \n",
      "__________________________________________________________________________________________________\n",
      "conv4_block1_2_conv (Conv2D)    (None, 14, 14, 256)  590080      conv4_block1_1_relu[0][0]        \n",
      "__________________________________________________________________________________________________\n",
      "conv4_block1_2_bn (BatchNormali (None, 14, 14, 256)  1024        conv4_block1_2_conv[0][0]        \n",
      "__________________________________________________________________________________________________\n",
      "conv4_block1_2_relu (Activation (None, 14, 14, 256)  0           conv4_block1_2_bn[0][0]          \n",
      "__________________________________________________________________________________________________\n",
      "conv4_block1_0_conv (Conv2D)    (None, 14, 14, 1024) 525312      conv3_block4_out[0][0]           \n",
      "__________________________________________________________________________________________________\n",
      "conv4_block1_3_conv (Conv2D)    (None, 14, 14, 1024) 263168      conv4_block1_2_relu[0][0]        \n",
      "__________________________________________________________________________________________________\n",
      "conv4_block1_0_bn (BatchNormali (None, 14, 14, 1024) 4096        conv4_block1_0_conv[0][0]        \n",
      "__________________________________________________________________________________________________\n",
      "conv4_block1_3_bn (BatchNormali (None, 14, 14, 1024) 4096        conv4_block1_3_conv[0][0]        \n",
      "__________________________________________________________________________________________________\n",
      "conv4_block1_add (Add)          (None, 14, 14, 1024) 0           conv4_block1_0_bn[0][0]          \n",
      "                                                                 conv4_block1_3_bn[0][0]          \n",
      "__________________________________________________________________________________________________\n",
      "conv4_block1_out (Activation)   (None, 14, 14, 1024) 0           conv4_block1_add[0][0]           \n",
      "__________________________________________________________________________________________________\n",
      "conv4_block2_1_conv (Conv2D)    (None, 14, 14, 256)  262400      conv4_block1_out[0][0]           \n",
      "__________________________________________________________________________________________________\n",
      "conv4_block2_1_bn (BatchNormali (None, 14, 14, 256)  1024        conv4_block2_1_conv[0][0]        \n",
      "__________________________________________________________________________________________________\n",
      "conv4_block2_1_relu (Activation (None, 14, 14, 256)  0           conv4_block2_1_bn[0][0]          \n",
      "__________________________________________________________________________________________________\n",
      "conv4_block2_2_conv (Conv2D)    (None, 14, 14, 256)  590080      conv4_block2_1_relu[0][0]        \n",
      "__________________________________________________________________________________________________\n",
      "conv4_block2_2_bn (BatchNormali (None, 14, 14, 256)  1024        conv4_block2_2_conv[0][0]        \n",
      "__________________________________________________________________________________________________\n",
      "conv4_block2_2_relu (Activation (None, 14, 14, 256)  0           conv4_block2_2_bn[0][0]          \n",
      "__________________________________________________________________________________________________\n",
      "conv4_block2_3_conv (Conv2D)    (None, 14, 14, 1024) 263168      conv4_block2_2_relu[0][0]        \n",
      "__________________________________________________________________________________________________\n",
      "conv4_block2_3_bn (BatchNormali (None, 14, 14, 1024) 4096        conv4_block2_3_conv[0][0]        \n",
      "__________________________________________________________________________________________________\n",
      "conv4_block2_add (Add)          (None, 14, 14, 1024) 0           conv4_block1_out[0][0]           \n",
      "                                                                 conv4_block2_3_bn[0][0]          \n",
      "__________________________________________________________________________________________________\n",
      "conv4_block2_out (Activation)   (None, 14, 14, 1024) 0           conv4_block2_add[0][0]           \n",
      "__________________________________________________________________________________________________\n",
      "conv4_block3_1_conv (Conv2D)    (None, 14, 14, 256)  262400      conv4_block2_out[0][0]           \n",
      "__________________________________________________________________________________________________\n",
      "conv4_block3_1_bn (BatchNormali (None, 14, 14, 256)  1024        conv4_block3_1_conv[0][0]        \n",
      "__________________________________________________________________________________________________\n",
      "conv4_block3_1_relu (Activation (None, 14, 14, 256)  0           conv4_block3_1_bn[0][0]          \n",
      "__________________________________________________________________________________________________\n",
      "conv4_block3_2_conv (Conv2D)    (None, 14, 14, 256)  590080      conv4_block3_1_relu[0][0]        \n",
      "__________________________________________________________________________________________________\n",
      "conv4_block3_2_bn (BatchNormali (None, 14, 14, 256)  1024        conv4_block3_2_conv[0][0]        \n",
      "__________________________________________________________________________________________________\n",
      "conv4_block3_2_relu (Activation (None, 14, 14, 256)  0           conv4_block3_2_bn[0][0]          \n",
      "__________________________________________________________________________________________________\n",
      "conv4_block3_3_conv (Conv2D)    (None, 14, 14, 1024) 263168      conv4_block3_2_relu[0][0]        \n",
      "__________________________________________________________________________________________________\n",
      "conv4_block3_3_bn (BatchNormali (None, 14, 14, 1024) 4096        conv4_block3_3_conv[0][0]        \n",
      "__________________________________________________________________________________________________\n",
      "conv4_block3_add (Add)          (None, 14, 14, 1024) 0           conv4_block2_out[0][0]           \n",
      "                                                                 conv4_block3_3_bn[0][0]          \n",
      "__________________________________________________________________________________________________\n",
      "conv4_block3_out (Activation)   (None, 14, 14, 1024) 0           conv4_block3_add[0][0]           \n",
      "__________________________________________________________________________________________________\n",
      "conv4_block4_1_conv (Conv2D)    (None, 14, 14, 256)  262400      conv4_block3_out[0][0]           \n",
      "__________________________________________________________________________________________________\n",
      "conv4_block4_1_bn (BatchNormali (None, 14, 14, 256)  1024        conv4_block4_1_conv[0][0]        \n",
      "__________________________________________________________________________________________________\n",
      "conv4_block4_1_relu (Activation (None, 14, 14, 256)  0           conv4_block4_1_bn[0][0]          \n",
      "__________________________________________________________________________________________________\n",
      "conv4_block4_2_conv (Conv2D)    (None, 14, 14, 256)  590080      conv4_block4_1_relu[0][0]        \n",
      "__________________________________________________________________________________________________\n",
      "conv4_block4_2_bn (BatchNormali (None, 14, 14, 256)  1024        conv4_block4_2_conv[0][0]        \n",
      "__________________________________________________________________________________________________\n",
      "conv4_block4_2_relu (Activation (None, 14, 14, 256)  0           conv4_block4_2_bn[0][0]          \n",
      "__________________________________________________________________________________________________\n",
      "conv4_block4_3_conv (Conv2D)    (None, 14, 14, 1024) 263168      conv4_block4_2_relu[0][0]        \n",
      "__________________________________________________________________________________________________\n",
      "conv4_block4_3_bn (BatchNormali (None, 14, 14, 1024) 4096        conv4_block4_3_conv[0][0]        \n",
      "__________________________________________________________________________________________________\n",
      "conv4_block4_add (Add)          (None, 14, 14, 1024) 0           conv4_block3_out[0][0]           \n",
      "                                                                 conv4_block4_3_bn[0][0]          \n",
      "__________________________________________________________________________________________________\n",
      "conv4_block4_out (Activation)   (None, 14, 14, 1024) 0           conv4_block4_add[0][0]           \n",
      "__________________________________________________________________________________________________\n",
      "conv4_block5_1_conv (Conv2D)    (None, 14, 14, 256)  262400      conv4_block4_out[0][0]           \n",
      "__________________________________________________________________________________________________\n",
      "conv4_block5_1_bn (BatchNormali (None, 14, 14, 256)  1024        conv4_block5_1_conv[0][0]        \n",
      "__________________________________________________________________________________________________\n",
      "conv4_block5_1_relu (Activation (None, 14, 14, 256)  0           conv4_block5_1_bn[0][0]          \n",
      "__________________________________________________________________________________________________\n",
      "conv4_block5_2_conv (Conv2D)    (None, 14, 14, 256)  590080      conv4_block5_1_relu[0][0]        \n",
      "__________________________________________________________________________________________________\n",
      "conv4_block5_2_bn (BatchNormali (None, 14, 14, 256)  1024        conv4_block5_2_conv[0][0]        \n",
      "__________________________________________________________________________________________________\n",
      "conv4_block5_2_relu (Activation (None, 14, 14, 256)  0           conv4_block5_2_bn[0][0]          \n",
      "__________________________________________________________________________________________________\n",
      "conv4_block5_3_conv (Conv2D)    (None, 14, 14, 1024) 263168      conv4_block5_2_relu[0][0]        \n",
      "__________________________________________________________________________________________________\n",
      "conv4_block5_3_bn (BatchNormali (None, 14, 14, 1024) 4096        conv4_block5_3_conv[0][0]        \n",
      "__________________________________________________________________________________________________\n",
      "conv4_block5_add (Add)          (None, 14, 14, 1024) 0           conv4_block4_out[0][0]           \n",
      "                                                                 conv4_block5_3_bn[0][0]          \n",
      "__________________________________________________________________________________________________\n",
      "conv4_block5_out (Activation)   (None, 14, 14, 1024) 0           conv4_block5_add[0][0]           \n",
      "__________________________________________________________________________________________________\n",
      "conv4_block6_1_conv (Conv2D)    (None, 14, 14, 256)  262400      conv4_block5_out[0][0]           \n",
      "__________________________________________________________________________________________________\n",
      "conv4_block6_1_bn (BatchNormali (None, 14, 14, 256)  1024        conv4_block6_1_conv[0][0]        \n",
      "__________________________________________________________________________________________________\n",
      "conv4_block6_1_relu (Activation (None, 14, 14, 256)  0           conv4_block6_1_bn[0][0]          \n",
      "__________________________________________________________________________________________________\n",
      "conv4_block6_2_conv (Conv2D)    (None, 14, 14, 256)  590080      conv4_block6_1_relu[0][0]        \n",
      "__________________________________________________________________________________________________\n",
      "conv4_block6_2_bn (BatchNormali (None, 14, 14, 256)  1024        conv4_block6_2_conv[0][0]        \n",
      "__________________________________________________________________________________________________\n",
      "conv4_block6_2_relu (Activation (None, 14, 14, 256)  0           conv4_block6_2_bn[0][0]          \n",
      "__________________________________________________________________________________________________\n",
      "conv4_block6_3_conv (Conv2D)    (None, 14, 14, 1024) 263168      conv4_block6_2_relu[0][0]        \n",
      "__________________________________________________________________________________________________\n",
      "conv4_block6_3_bn (BatchNormali (None, 14, 14, 1024) 4096        conv4_block6_3_conv[0][0]        \n",
      "__________________________________________________________________________________________________\n",
      "conv4_block6_add (Add)          (None, 14, 14, 1024) 0           conv4_block5_out[0][0]           \n",
      "                                                                 conv4_block6_3_bn[0][0]          \n",
      "__________________________________________________________________________________________________\n",
      "conv4_block6_out (Activation)   (None, 14, 14, 1024) 0           conv4_block6_add[0][0]           \n",
      "__________________________________________________________________________________________________\n",
      "conv5_block1_1_conv (Conv2D)    (None, 7, 7, 512)    524800      conv4_block6_out[0][0]           \n",
      "__________________________________________________________________________________________________\n",
      "conv5_block1_1_bn (BatchNormali (None, 7, 7, 512)    2048        conv5_block1_1_conv[0][0]        \n",
      "__________________________________________________________________________________________________\n",
      "conv5_block1_1_relu (Activation (None, 7, 7, 512)    0           conv5_block1_1_bn[0][0]          \n",
      "__________________________________________________________________________________________________\n",
      "conv5_block1_2_conv (Conv2D)    (None, 7, 7, 512)    2359808     conv5_block1_1_relu[0][0]        \n",
      "__________________________________________________________________________________________________\n",
      "conv5_block1_2_bn (BatchNormali (None, 7, 7, 512)    2048        conv5_block1_2_conv[0][0]        \n",
      "__________________________________________________________________________________________________\n",
      "conv5_block1_2_relu (Activation (None, 7, 7, 512)    0           conv5_block1_2_bn[0][0]          \n",
      "__________________________________________________________________________________________________\n",
      "conv5_block1_0_conv (Conv2D)    (None, 7, 7, 2048)   2099200     conv4_block6_out[0][0]           \n",
      "__________________________________________________________________________________________________\n",
      "conv5_block1_3_conv (Conv2D)    (None, 7, 7, 2048)   1050624     conv5_block1_2_relu[0][0]        \n",
      "__________________________________________________________________________________________________\n",
      "conv5_block1_0_bn (BatchNormali (None, 7, 7, 2048)   8192        conv5_block1_0_conv[0][0]        \n",
      "__________________________________________________________________________________________________\n",
      "conv5_block1_3_bn (BatchNormali (None, 7, 7, 2048)   8192        conv5_block1_3_conv[0][0]        \n",
      "__________________________________________________________________________________________________\n",
      "conv5_block1_add (Add)          (None, 7, 7, 2048)   0           conv5_block1_0_bn[0][0]          \n",
      "                                                                 conv5_block1_3_bn[0][0]          \n",
      "__________________________________________________________________________________________________\n",
      "conv5_block1_out (Activation)   (None, 7, 7, 2048)   0           conv5_block1_add[0][0]           \n",
      "__________________________________________________________________________________________________\n",
      "conv5_block2_1_conv (Conv2D)    (None, 7, 7, 512)    1049088     conv5_block1_out[0][0]           \n",
      "__________________________________________________________________________________________________\n",
      "conv5_block2_1_bn (BatchNormali (None, 7, 7, 512)    2048        conv5_block2_1_conv[0][0]        \n",
      "__________________________________________________________________________________________________\n",
      "conv5_block2_1_relu (Activation (None, 7, 7, 512)    0           conv5_block2_1_bn[0][0]          \n",
      "__________________________________________________________________________________________________\n",
      "conv5_block2_2_conv (Conv2D)    (None, 7, 7, 512)    2359808     conv5_block2_1_relu[0][0]        \n",
      "__________________________________________________________________________________________________\n",
      "conv5_block2_2_bn (BatchNormali (None, 7, 7, 512)    2048        conv5_block2_2_conv[0][0]        \n",
      "__________________________________________________________________________________________________\n",
      "conv5_block2_2_relu (Activation (None, 7, 7, 512)    0           conv5_block2_2_bn[0][0]          \n",
      "__________________________________________________________________________________________________\n",
      "conv5_block2_3_conv (Conv2D)    (None, 7, 7, 2048)   1050624     conv5_block2_2_relu[0][0]        \n",
      "__________________________________________________________________________________________________\n",
      "conv5_block2_3_bn (BatchNormali (None, 7, 7, 2048)   8192        conv5_block2_3_conv[0][0]        \n",
      "__________________________________________________________________________________________________\n",
      "conv5_block2_add (Add)          (None, 7, 7, 2048)   0           conv5_block1_out[0][0]           \n",
      "                                                                 conv5_block2_3_bn[0][0]          \n",
      "__________________________________________________________________________________________________\n",
      "conv5_block2_out (Activation)   (None, 7, 7, 2048)   0           conv5_block2_add[0][0]           \n",
      "__________________________________________________________________________________________________\n",
      "conv5_block3_1_conv (Conv2D)    (None, 7, 7, 512)    1049088     conv5_block2_out[0][0]           \n",
      "__________________________________________________________________________________________________\n",
      "conv5_block3_1_bn (BatchNormali (None, 7, 7, 512)    2048        conv5_block3_1_conv[0][0]        \n",
      "__________________________________________________________________________________________________\n",
      "conv5_block3_1_relu (Activation (None, 7, 7, 512)    0           conv5_block3_1_bn[0][0]          \n",
      "__________________________________________________________________________________________________\n",
      "conv5_block3_2_conv (Conv2D)    (None, 7, 7, 512)    2359808     conv5_block3_1_relu[0][0]        \n",
      "__________________________________________________________________________________________________\n",
      "conv5_block3_2_bn (BatchNormali (None, 7, 7, 512)    2048        conv5_block3_2_conv[0][0]        \n",
      "__________________________________________________________________________________________________\n",
      "conv5_block3_2_relu (Activation (None, 7, 7, 512)    0           conv5_block3_2_bn[0][0]          \n",
      "__________________________________________________________________________________________________\n",
      "conv5_block3_3_conv (Conv2D)    (None, 7, 7, 2048)   1050624     conv5_block3_2_relu[0][0]        \n",
      "__________________________________________________________________________________________________\n",
      "conv5_block3_3_bn (BatchNormali (None, 7, 7, 2048)   8192        conv5_block3_3_conv[0][0]        \n",
      "__________________________________________________________________________________________________\n",
      "conv5_block3_add (Add)          (None, 7, 7, 2048)   0           conv5_block2_out[0][0]           \n",
      "                                                                 conv5_block3_3_bn[0][0]          \n",
      "__________________________________________________________________________________________________\n",
      "conv5_block3_out (Activation)   (None, 7, 7, 2048)   0           conv5_block3_add[0][0]           \n",
      "__________________________________________________________________________________________________\n",
      "avg_pool (GlobalAveragePooling2 (None, 2048)         0           conv5_block3_out[0][0]           \n",
      "__________________________________________________________________________________________________\n",
      "predictions (Dense)             (None, 1000)         2049000     avg_pool[0][0]                   \n",
      "==================================================================================================\n",
      "Total params: 25,636,712\n",
      "Trainable params: 25,583,592\n",
      "Non-trainable params: 53,120\n",
      "__________________________________________________________________________________________________\n"
     ]
    }
   ],
   "source": [
    "model = ResNet50(weights=\"imagenet\",input_shape=(224,224,3))\n",
    "model.summary()"
   ]
  },
  {
   "cell_type": "code",
   "execution_count": 36,
   "metadata": {
    "executionInfo": {
     "elapsed": 1821,
     "status": "ok",
     "timestamp": 1601276755280,
     "user": {
      "displayName": "kishu rai",
      "photoUrl": "",
      "userId": "03084149204407627434"
     },
     "user_tz": -330
    },
    "id": "ofH6uCELHeHM"
   },
   "outputs": [],
   "source": [
    "# this model will allow to extract the features\n",
    "model_new = Model(model.input,model.layers[-2].output)"
   ]
  },
  {
   "cell_type": "code",
   "execution_count": 37,
   "metadata": {
    "executionInfo": {
     "elapsed": 1342,
     "status": "ok",
     "timestamp": 1601276757029,
     "user": {
      "displayName": "kishu rai",
      "photoUrl": "",
      "userId": "03084149204407627434"
     },
     "user_tz": -330
    },
    "id": "f6By-tTLHeHQ"
   },
   "outputs": [],
   "source": [
    "def preprocess_img(img):\n",
    "    img = image.load_img(img,target_size=(224,224))\n",
    "    img = image.img_to_array(img)\n",
    "    img = np.expand_dims(img,axis=0)\n",
    "    # Normalisation\n",
    "    img = preprocess_input(img)\n",
    "    return img\n"
   ]
  },
  {
   "cell_type": "code",
   "execution_count": 38,
   "metadata": {
    "colab": {
     "base_uri": "https://localhost:8080/",
     "height": 282
    },
    "executionInfo": {
     "elapsed": 1682,
     "status": "ok",
     "timestamp": 1601276759328,
     "user": {
      "displayName": "kishu rai",
      "photoUrl": "",
      "userId": "03084149204407627434"
     },
     "user_tz": -330
    },
    "id": "_uaLi8asHeHT",
    "outputId": "8bcf2d24-3a43-4f4a-c5aa-37d84584d6f8"
   },
   "outputs": [
    {
     "name": "stderr",
     "output_type": "stream",
     "text": [
      "Clipping input data to the valid range for imshow with RGB data ([0..1] for floats or [0..255] for integers).\n"
     ]
    },
    {
     "data": {
      "image/png": "[encoded data removed]",
      "text/plain": [
       "<Figure size 432x288 with 1 Axes>"
      ]
     },
     "metadata": {
      "needs_background": "light",
      "tags": []
     },
     "output_type": "display_data"
    },
    {
     "name": "stdout",
     "output_type": "stream",
     "text": [
      "(1, 224, 224, 3)\n"
     ]
    }
   ],
   "source": [
    "img = preprocess_img(Img_path+'1000268201_693b08cb0e.jpg')\n",
    "plt.imshow(img[0])\n",
    "plt.axis('off')\n",
    "plt.show()\n",
    "print(img.shape)"
   ]
  },
  {
   "cell_type": "code",
   "execution_count": 39,
   "metadata": {
    "executionInfo": {
     "elapsed": 1746,
     "status": "ok",
     "timestamp": 1601276761756,
     "user": {
      "displayName": "kishu rai",
      "photoUrl": "",
      "userId": "03084149204407627434"
     },
     "user_tz": -330
    },
    "id": "TU6dBaEDHeHW"
   },
   "outputs": [],
   "source": [
    "def encode_image(img):\n",
    "    img = preprocess_img(img)\n",
    "    feature_vector = model_new.predict(img)\n",
    "    \n",
    "    feature_vector = feature_vector.reshape((-1,))\n",
    "    #print(feature_vector.shape)\n",
    "    return feature_vector\n"
   ]
  },
  {
   "cell_type": "code",
   "execution_count": 40,
   "metadata": {
    "colab": {
     "base_uri": "https://localhost:8080/",
     "height": 34
    },
    "executionInfo": {
     "elapsed": 8854,
     "status": "ok",
     "timestamp": 1601276771305,
     "user": {
      "displayName": "kishu rai",
      "photoUrl": "",
      "userId": "03084149204407627434"
     },
     "user_tz": -330
    },
    "id": "dWFHPNzNHeHY",
    "outputId": "3c8a8d99-702e-4a21-a735-b8b000d63d51"
   },
   "outputs": [
    {
     "data": {
      "text/plain": [
       "(2048,)"
      ]
     },
     "execution_count": 40,
     "metadata": {
      "tags": []
     },
     "output_type": "execute_result"
    }
   ],
   "source": [
    "encode_image(Img_path+'1000268201_693b08cb0e.jpg').shape"
   ]
  },
  {
   "cell_type": "code",
   "execution_count": 41,
   "metadata": {
    "colab": {
     "base_uri": "https://localhost:8080/",
     "height": 1000
    },
    "executionInfo": {
     "elapsed": 418091,
     "status": "ok",
     "timestamp": 1601277190117,
     "user": {
      "displayName": "kishu rai",
      "photoUrl": "",
      "userId": "03084149204407627434"
     },
     "user_tz": -330
    },
    "id": "E4U9cOHhHeHb",
    "outputId": "38a3b4a6-f3ce-4634-91b2-6a8e8665f600"
   },
   "outputs": [
    {
     "name": "stdout",
     "output_type": "stream",
     "text": [
      "Encoding in Progress Time step 0 \n",
      "Encoding in Progress Time step 100 \n",
      "Encoding in Progress Time step 200 \n",
      "Encoding in Progress Time step 300 \n",
      "Encoding in Progress Time step 400 \n",
      "Encoding in Progress Time step 500 \n",
      "Encoding in Progress Time step 600 \n",
      "Encoding in Progress Time step 700 \n",
      "Encoding in Progress Time step 800 \n",
      "Encoding in Progress Time step 900 \n",
      "Encoding in Progress Time step 1000 \n",
      "Encoding in Progress Time step 1100 \n",
      "Encoding in Progress Time step 1200 \n",
      "Encoding in Progress Time step 1300 \n",
      "Encoding in Progress Time step 1400 \n",
      "Encoding in Progress Time step 1500 \n",
      "Encoding in Progress Time step 1600 \n",
      "Encoding in Progress Time step 1700 \n",
      "Encoding in Progress Time step 1800 \n",
      "Encoding in Progress Time step 1900 \n",
      "Encoding in Progress Time step 2000 \n",
      "Encoding in Progress Time step 2100 \n",
      "Encoding in Progress Time step 2200 \n",
      "Encoding in Progress Time step 2300 \n",
      "Encoding in Progress Time step 2400 \n",
      "Encoding in Progress Time step 2500 \n",
      "Encoding in Progress Time step 2600 \n",
      "Encoding in Progress Time step 2700 \n",
      "Encoding in Progress Time step 2800 \n",
      "Encoding in Progress Time step 2900 \n",
      "Encoding in Progress Time step 3000 \n",
      "Encoding in Progress Time step 3100 \n",
      "Encoding in Progress Time step 3200 \n",
      "Encoding in Progress Time step 3300 \n",
      "Encoding in Progress Time step 3400 \n",
      "Encoding in Progress Time step 3500 \n",
      "Encoding in Progress Time step 3600 \n",
      "Encoding in Progress Time step 3700 \n",
      "Encoding in Progress Time step 3800 \n",
      "Encoding in Progress Time step 3900 \n",
      "Encoding in Progress Time step 4000 \n",
      "Encoding in Progress Time step 4100 \n",
      "Encoding in Progress Time step 4200 \n",
      "Encoding in Progress Time step 4300 \n",
      "Encoding in Progress Time step 4400 \n",
      "Encoding in Progress Time step 4500 \n",
      "Encoding in Progress Time step 4600 \n",
      "Encoding in Progress Time step 4700 \n",
      "Encoding in Progress Time step 4800 \n",
      "Encoding in Progress Time step 4900 \n",
      "Encoding in Progress Time step 5000 \n",
      "Encoding in Progress Time step 5100 \n",
      "Encoding in Progress Time step 5200 \n",
      "Encoding in Progress Time step 5300 \n",
      "Encoding in Progress Time step 5400 \n",
      "Encoding in Progress Time step 5500 \n",
      "Encoding in Progress Time step 5600 \n",
      "Encoding in Progress Time step 5700 \n",
      "Encoding in Progress Time step 5800 \n",
      "Encoding in Progress Time step 5900 \n",
      "Total Time Taken : 416.86884593963623\n"
     ]
    }
   ],
   "source": [
    "start = time()\n",
    "encoding_train = {}\n",
    "#image_id -->feature_vector extracted from Resnet Image\n",
    "\n",
    "for ix,img_id in enumerate(train):\n",
    "    img_path = Img_path+\"/\"+img_id+\".jpg\"\n",
    "    encoding_train[img_id] = encode_image(img_path)\n",
    "    \n",
    "    if ix%100==0:\n",
    "        print(\"Encoding in Progress Time step %d \"%ix)\n",
    "        \n",
    "end_t = time()\n",
    "print(\"Total Time Taken :\",end_t-start)"
   ]
  },
  {
   "cell_type": "code",
   "execution_count": 42,
   "metadata": {
    "executionInfo": {
     "elapsed": 1117,
     "status": "ok",
     "timestamp": 1601277318750,
     "user": {
      "displayName": "kishu rai",
      "photoUrl": "",
      "userId": "03084149204407627434"
     },
     "user_tz": -330
    },
    "id": "3KA5YdcD3sXf"
   },
   "outputs": [],
   "source": [
    "!mkdir saved"
   ]
  },
  {
   "cell_type": "code",
   "execution_count": 43,
   "metadata": {
    "executionInfo": {
     "elapsed": 1142,
     "status": "ok",
     "timestamp": 1601277322391,
     "user": {
      "displayName": "kishu rai",
      "photoUrl": "",
      "userId": "03084149204407627434"
     },
     "user_tz": -330
    },
    "id": "e564XN4aHeHe"
   },
   "outputs": [],
   "source": [
    "\n",
    "#store everything to disk\n",
    "#use pickle to dump all the data\n",
    "# Store everything to the disk \n",
    "with open(\"saved/encoded_train_features.pkl\",\"wb\") as f:\n",
    "    pickle.dump(encoding_train,f)\n",
    "    "
   ]
  },
  {
   "cell_type": "code",
   "execution_count": 44,
   "metadata": {
    "colab": {
     "base_uri": "https://localhost:8080/",
     "height": 204
    },
    "executionInfo": {
     "elapsed": 72768,
     "status": "ok",
     "timestamp": 1601277395920,
     "user": {
      "displayName": "kishu rai",
      "photoUrl": "",
      "userId": "03084149204407627434"
     },
     "user_tz": -330
    },
    "id": "XnoJj3IaHeHg",
    "outputId": "4f286310-e18d-47b8-8f72-fc574b23d60a"
   },
   "outputs": [
    {
     "name": "stdout",
     "output_type": "stream",
     "text": [
      "Test Encoding in Progress Time step 0 \n",
      "Test Encoding in Progress Time step 100 \n",
      "Test Encoding in Progress Time step 200 \n",
      "Test Encoding in Progress Time step 300 \n",
      "Test Encoding in Progress Time step 400 \n",
      "Test Encoding in Progress Time step 500 \n",
      "Test Encoding in Progress Time step 600 \n",
      "Test Encoding in Progress Time step 700 \n",
      "Test Encoding in Progress Time step 800 \n",
      "Test Encoding in Progress Time step 900 \n",
      "Total Time Taken(test) : 70.8009717464447\n"
     ]
    }
   ],
   "source": [
    "start = time()\n",
    "encoding_test = {}\n",
    "#image_id -->feature_vector extracted from Resnet Image\n",
    "\n",
    "for ix,img_id in enumerate(test):\n",
    "    img_path = Img_path+\"/\"+img_id+\".jpg\"\n",
    "    encoding_test[img_id] = encode_image(img_path)\n",
    "    \n",
    "    if ix%100==0:\n",
    "        print(\"Test Encoding in Progress Time step %d \"%ix)\n",
    "        \n",
    "end_t = time()\n",
    "print(\"Total Time Taken(test) :\",end_t-start)"
   ]
  },
  {
   "cell_type": "code",
   "execution_count": 45,
   "metadata": {
    "executionInfo": {
     "elapsed": 1422,
     "status": "ok",
     "timestamp": 1601277511505,
     "user": {
      "displayName": "kishu rai",
      "photoUrl": "",
      "userId": "03084149204407627434"
     },
     "user_tz": -330
    },
    "id": "AwuVW_vyHeHk"
   },
   "outputs": [],
   "source": [
    "with open(\"saved/encoded_test_features.pkl\",\"wb\") as f:\n",
    "    pickle.dump(encoding_test,f)"
   ]
  },
  {
   "cell_type": "markdown",
   "metadata": {
    "id": "66hYvqLGHeHr"
   },
   "source": [
    "### Data Preprocessing for captions"
   ]
  },
  {
   "cell_type": "code",
   "execution_count": 46,
   "metadata": {
    "colab": {
     "base_uri": "https://localhost:8080/",
     "height": 34
    },
    "executionInfo": {
     "elapsed": 795,
     "status": "ok",
     "timestamp": 1601277513060,
     "user": {
      "displayName": "kishu rai",
      "photoUrl": "",
      "userId": "03084149204407627434"
     },
     "user_tz": -330
    },
    "id": "T6Lmrr83HeHs",
    "outputId": "50ee6fd9-11e6-43aa-a1fc-c03b00c847bd"
   },
   "outputs": [
    {
     "data": {
      "text/plain": [
       "1845"
      ]
     },
     "execution_count": 46,
     "metadata": {
      "tags": []
     },
     "output_type": "execute_result"
    }
   ],
   "source": [
    "\n",
    "len(total_words)#vocab"
   ]
  },
  {
   "cell_type": "code",
   "execution_count": 47,
   "metadata": {
    "executionInfo": {
     "elapsed": 887,
     "status": "ok",
     "timestamp": 1601277513771,
     "user": {
      "displayName": "kishu rai",
      "photoUrl": "",
      "userId": "03084149204407627434"
     },
     "user_tz": -330
    },
    "id": "-9sac99hHeHu"
   },
   "outputs": [],
   "source": [
    "word_to_idx = {}\n",
    "idx_to_word = {}\n",
    "\n",
    "for i,word in enumerate(total_words):\n",
    "    word_to_idx[word] = i+1\n",
    "    idx_to_word[i+1] = word\n",
    "    \n",
    "    "
   ]
  },
  {
   "cell_type": "code",
   "execution_count": 48,
   "metadata": {
    "colab": {
     "base_uri": "https://localhost:8080/",
     "height": 34
    },
    "executionInfo": {
     "elapsed": 1281,
     "status": "ok",
     "timestamp": 1601277514937,
     "user": {
      "displayName": "kishu rai",
      "photoUrl": "",
      "userId": "03084149204407627434"
     },
     "user_tz": -330
    },
    "id": "Y2kk_veKHeHz",
    "outputId": "f5ab583c-aecf-40b3-d3b8-02d5ff6ee40c"
   },
   "outputs": [
    {
     "name": "stdout",
     "output_type": "stream",
     "text": [
      "1845\n"
     ]
    }
   ],
   "source": [
    "#word_to_idx[\"dog\"]\n",
    "#idx_to_word[1]\n",
    "print(len(idx_to_word))"
   ]
  },
  {
   "cell_type": "code",
   "execution_count": 49,
   "metadata": {
    "colab": {
     "base_uri": "https://localhost:8080/",
     "height": 34
    },
    "executionInfo": {
     "elapsed": 1578,
     "status": "ok",
     "timestamp": 1601277515854,
     "user": {
      "displayName": "kishu rai",
      "photoUrl": "",
      "userId": "03084149204407627434"
     },
     "user_tz": -330
    },
    "id": "HD9rDQYxHeH2",
    "outputId": "d1217acf-90bf-4678-95ab-e26c5854d97e"
   },
   "outputs": [
    {
     "name": "stdout",
     "output_type": "stream",
     "text": [
      "Vocab Size 1848\n"
     ]
    }
   ],
   "source": [
    "# Two special words\n",
    "idx_to_word[1846] = 'startseq'\n",
    "word_to_idx['startseq'] = 1846\n",
    "\n",
    "idx_to_word[1847] = 'endseq'\n",
    "word_to_idx['endseq'] = 1847\n",
    "\n",
    "vocab_size = len(word_to_idx) + 1\n",
    "print(\"Vocab Size\",vocab_size)"
   ]
  },
  {
   "cell_type": "code",
   "execution_count": 50,
   "metadata": {
    "colab": {
     "base_uri": "https://localhost:8080/",
     "height": 34
    },
    "executionInfo": {
     "elapsed": 1642,
     "status": "ok",
     "timestamp": 1601277516418,
     "user": {
      "displayName": "kishu rai",
      "photoUrl": "",
      "userId": "03084149204407627434"
     },
     "user_tz": -330
    },
    "id": "sCb7YoknHeH7",
    "outputId": "d7223fb1-4e13-4e58-e65e-cbb3444d4e57"
   },
   "outputs": [
    {
     "data": {
      "text/plain": [
       "1848"
      ]
     },
     "execution_count": 50,
     "metadata": {
      "tags": []
     },
     "output_type": "execute_result"
    }
   ],
   "source": [
    "vocab_size "
   ]
  },
  {
   "cell_type": "code",
   "execution_count": 51,
   "metadata": {
    "colab": {
     "base_uri": "https://localhost:8080/",
     "height": 34
    },
    "executionInfo": {
     "elapsed": 1128,
     "status": "ok",
     "timestamp": 1601277516419,
     "user": {
      "displayName": "kishu rai",
      "photoUrl": "",
      "userId": "03084149204407627434"
     },
     "user_tz": -330
    },
    "id": "5ENqfL4tHeH-",
    "outputId": "cbd499b6-97f5-4308-9f27-8e40fe672918"
   },
   "outputs": [
    {
     "name": "stdout",
     "output_type": "stream",
     "text": [
      "1848\n"
     ]
    }
   ],
   "source": [
    "print(vocab_size)"
   ]
  },
  {
   "cell_type": "code",
   "execution_count": 52,
   "metadata": {
    "colab": {
     "base_uri": "https://localhost:8080/",
     "height": 34
    },
    "executionInfo": {
     "elapsed": 1931,
     "status": "ok",
     "timestamp": 1601277519180,
     "user": {
      "displayName": "kishu rai",
      "photoUrl": "",
      "userId": "03084149204407627434"
     },
     "user_tz": -330
    },
    "id": "2lX2QLTAHeIC",
    "outputId": "ae320115-fea9-42f2-f038-f7d0eabc6b9a"
   },
   "outputs": [
    {
     "name": "stdout",
     "output_type": "stream",
     "text": [
      "35\n"
     ]
    }
   ],
   "source": [
    "max_len = 0 \n",
    "for key in train_descriptions.keys():\n",
    "    for cap in train_descriptions[key]:\n",
    "        max_len = max(max_len,len(cap.split()))\n",
    "        \n",
    "print(max_len)"
   ]
  },
  {
   "cell_type": "markdown",
   "metadata": {
    "id": "kOEOMlQ2HeIE"
   },
   "source": [
    "### Data loader(generator)"
   ]
  },
  {
   "cell_type": "code",
   "execution_count": 53,
   "metadata": {
    "executionInfo": {
     "elapsed": 1562,
     "status": "ok",
     "timestamp": 1601277520544,
     "user": {
      "displayName": "kishu rai",
      "photoUrl": "",
      "userId": "03084149204407627434"
     },
     "user_tz": -330
    },
    "id": "Vh4GvpcOHeIE"
   },
   "outputs": [],
   "source": [
    "def data_generator(train_descriptions,encoding_train,word_to_idx,max_len,batch_size):\n",
    "    X1,X2, y = [],[],[]\n",
    "    \n",
    "    n =0\n",
    "    while True:\n",
    "        for key,desc_list in train_descriptions.items():\n",
    "            n += 1\n",
    "            \n",
    "            photo = encoding_train[key]\n",
    "            for desc in desc_list:\n",
    "                \n",
    "                seq = [word_to_idx[word] for word in desc.split() if word in word_to_idx]\n",
    "                for i in range(1,len(seq)):\n",
    "                    xi = seq[0:i]\n",
    "                    yi = seq[i]\n",
    "                    \n",
    "                    #0 denote padding word\n",
    "                    xi = pad_sequences([xi],maxlen=max_len,value=0,padding='post')[0]\n",
    "                    yi = to_categorical([yi],num_classes=vocab_size)[0]\n",
    "                    \n",
    "                    X1.append(photo)\n",
    "                    X2.append(xi)\n",
    "                    y.append(yi)\n",
    "                    \n",
    "                if n==batch_size:\n",
    "                    yield [np.array(X1),np.array(X2)] , np.array(y)\n",
    "                    X1,X2,y = [],[],[]\n",
    "                    n = 0"
   ]
  },
  {
   "cell_type": "markdown",
   "metadata": {
    "id": "a8xMvqSJHeIH"
   },
   "source": [
    "### Word Embeddings"
   ]
  },
  {
   "cell_type": "code",
   "execution_count": 54,
   "metadata": {
    "executionInfo": {
     "elapsed": 753,
     "status": "ok",
     "timestamp": 1601277522038,
     "user": {
      "displayName": "kishu rai",
      "photoUrl": "",
      "userId": "03084149204407627434"
     },
     "user_tz": -330
    },
    "id": "wAqgl82aHeII"
   },
   "outputs": [],
   "source": [
    "f=  open(copied_path,encoding ='utf8') \n",
    "\n"
   ]
  },
  {
   "cell_type": "code",
   "execution_count": 55,
   "metadata": {
    "executionInfo": {
     "elapsed": 10043,
     "status": "ok",
     "timestamp": 1601277531788,
     "user": {
      "displayName": "kishu rai",
      "photoUrl": "",
      "userId": "03084149204407627434"
     },
     "user_tz": -330
    },
    "id": "R0gHPderHeIP"
   },
   "outputs": [],
   "source": [
    "embedding_index = {}\n",
    "\n",
    "for line in f:\n",
    "    values = line.split()\n",
    "    \n",
    "    word = values[0]\n",
    "    word_embedding = np.array(values[1:],dtype='float')\n",
    "    embedding_index[word] = word_embedding"
   ]
  },
  {
   "cell_type": "code",
   "execution_count": 56,
   "metadata": {
    "colab": {
     "base_uri": "https://localhost:8080/",
     "height": 170
    },
    "executionInfo": {
     "elapsed": 8914,
     "status": "ok",
     "timestamp": 1601277531789,
     "user": {
      "displayName": "kishu rai",
      "photoUrl": "",
      "userId": "03084149204407627434"
     },
     "user_tz": -330
    },
    "id": "Nmqkm_igHeIS",
    "outputId": "f16b4deb-425c-489d-f92a-f2e89ef7dff7"
   },
   "outputs": [
    {
     "data": {
      "text/plain": [
       "array([ 0.52042 , -0.8314  ,  0.49961 ,  1.2893  ,  0.1151  ,  0.057521,\n",
       "       -1.3753  , -0.97313 ,  0.18346 ,  0.47672 , -0.15112 ,  0.35532 ,\n",
       "        0.25912 , -0.77857 ,  0.52181 ,  0.47695 , -1.4251  ,  0.858   ,\n",
       "        0.59821 , -1.0903  ,  0.33574 , -0.60891 ,  0.41742 ,  0.21569 ,\n",
       "       -0.07417 , -0.5822  , -0.4502  ,  0.17253 ,  0.16448 , -0.38413 ,\n",
       "        2.3283  , -0.66682 , -0.58181 ,  0.74389 ,  0.095015, -0.47865 ,\n",
       "       -0.84591 ,  0.38704 ,  0.23693 , -1.5523  ,  0.64802 , -0.16521 ,\n",
       "       -1.4719  , -0.16224 ,  0.79857 ,  0.97391 ,  0.40027 , -0.21912 ,\n",
       "       -0.30938 ,  0.26581 ])"
      ]
     },
     "execution_count": 56,
     "metadata": {
      "tags": []
     },
     "output_type": "execute_result"
    }
   ],
   "source": [
    "embedding_index['apple']"
   ]
  },
  {
   "cell_type": "code",
   "execution_count": 57,
   "metadata": {
    "executionInfo": {
     "elapsed": 1446,
     "status": "ok",
     "timestamp": 1601277541012,
     "user": {
      "displayName": "kishu rai",
      "photoUrl": "",
      "userId": "03084149204407627434"
     },
     "user_tz": -330
    },
    "id": "p9pKZmxDHeIW"
   },
   "outputs": [],
   "source": [
    "f.close()"
   ]
  },
  {
   "cell_type": "code",
   "execution_count": 58,
   "metadata": {
    "executionInfo": {
     "elapsed": 809,
     "status": "ok",
     "timestamp": 1601277541014,
     "user": {
      "displayName": "kishu rai",
      "photoUrl": "",
      "userId": "03084149204407627434"
     },
     "user_tz": -330
    },
    "id": "HGJydI2WHeIZ"
   },
   "outputs": [],
   "source": [
    "def get_embedding_matrix():\n",
    "    emb_dim = 50\n",
    "    matrix = np.zeros((vocab_size,emb_dim))\n",
    "    for word,idx in word_to_idx.items():\n",
    "        embedding_vector = embedding_index.get(word)\n",
    "        \n",
    "        if embedding_vector is not None:\n",
    "            matrix[idx] = embedding_vector\n",
    "            \n",
    "    return matrix"
   ]
  },
  {
   "cell_type": "code",
   "execution_count": 59,
   "metadata": {
    "colab": {
     "base_uri": "https://localhost:8080/",
     "height": 34
    },
    "executionInfo": {
     "elapsed": 1479,
     "status": "ok",
     "timestamp": 1601277542670,
     "user": {
      "displayName": "kishu rai",
      "photoUrl": "",
      "userId": "03084149204407627434"
     },
     "user_tz": -330
    },
    "id": "TqlwNKKnHeIc",
    "outputId": "09f35021-f045-4dd0-a08a-6024b506b04a"
   },
   "outputs": [
    {
     "data": {
      "text/plain": [
       "(1848, 50)"
      ]
     },
     "execution_count": 59,
     "metadata": {
      "tags": []
     },
     "output_type": "execute_result"
    }
   ],
   "source": [
    "\n",
    "embedding_matrix = get_embedding_matrix()\n",
    "embedding_matrix.shape"
   ]
  },
  {
   "cell_type": "code",
   "execution_count": 60,
   "metadata": {
    "colab": {
     "base_uri": "https://localhost:8080/",
     "height": 68
    },
    "executionInfo": {
     "elapsed": 1302,
     "status": "ok",
     "timestamp": 1601277543114,
     "user": {
      "displayName": "kishu rai",
      "photoUrl": "",
      "userId": "03084149204407627434"
     },
     "user_tz": -330
    },
    "id": "g1fvc4P4HeIf",
    "outputId": "8f3c264e-f621-46c8-aaa2-c9f630630bea"
   },
   "outputs": [
    {
     "data": {
      "text/plain": [
       "array([0., 0., 0., 0., 0., 0., 0., 0., 0., 0., 0., 0., 0., 0., 0., 0., 0.,\n",
       "       0., 0., 0., 0., 0., 0., 0., 0., 0., 0., 0., 0., 0., 0., 0., 0., 0.,\n",
       "       0., 0., 0., 0., 0., 0., 0., 0., 0., 0., 0., 0., 0., 0., 0., 0.])"
      ]
     },
     "execution_count": 60,
     "metadata": {
      "tags": []
     },
     "output_type": "execute_result"
    }
   ],
   "source": [
    "embedding_matrix[1847]"
   ]
  },
  {
   "cell_type": "markdown",
   "metadata": {
    "id": "W-rRi81_HeIh"
   },
   "source": [
    "### Model Architecture"
   ]
  },
  {
   "cell_type": "code",
   "execution_count": 61,
   "metadata": {
    "executionInfo": {
     "elapsed": 1821,
     "status": "ok",
     "timestamp": 1601277544818,
     "user": {
      "displayName": "kishu rai",
      "photoUrl": "",
      "userId": "03084149204407627434"
     },
     "user_tz": -330
    },
    "id": "DdQMXqZ2HeIh"
   },
   "outputs": [],
   "source": [
    "#part 1 convert feature vector of image into smaller vectorss\n",
    "input_img_features = Input(shape=(2048,))\n",
    "inp_img1 = Dropout(0.3)(input_img_features)\n",
    "inp_img2 = Dense(256,activation='relu')(inp_img1)\n"
   ]
  },
  {
   "cell_type": "code",
   "execution_count": 62,
   "metadata": {
    "executionInfo": {
     "elapsed": 2564,
     "status": "ok",
     "timestamp": 1601277546150,
     "user": {
      "displayName": "kishu rai",
      "photoUrl": "",
      "userId": "03084149204407627434"
     },
     "user_tz": -330
    },
    "id": "bhri8swXHeIj"
   },
   "outputs": [],
   "source": [
    "\n",
    "#part 2 captions as inp\n",
    "input_captions = Input(shape=(max_len,))\n",
    "inp_cap1 = Embedding(input_dim=vocab_size,output_dim=50,mask_zero=True)(input_captions)\n",
    "inp_cap2 = Dropout(0.3)(inp_cap1)\n",
    "inp_cap3 = LSTM(256)(inp_cap2)"
   ]
  },
  {
   "cell_type": "code",
   "execution_count": 63,
   "metadata": {
    "executionInfo": {
     "elapsed": 2029,
     "status": "ok",
     "timestamp": 1601277546151,
     "user": {
      "displayName": "kishu rai",
      "photoUrl": "",
      "userId": "03084149204407627434"
     },
     "user_tz": -330
    },
    "id": "BNlQrcEYHeIl"
   },
   "outputs": [],
   "source": [
    "decoder1 = add([inp_img2,inp_cap3])\n",
    "decoder2 = Dense(256,activation='relu')(decoder1)\n",
    "outputs = Dense(vocab_size,activation='softmax')(decoder2)\n",
    "\n",
    "# Combined Model\n",
    "model = Model(inputs=[input_img_features,input_captions],outputs=outputs)\n"
   ]
  },
  {
   "cell_type": "code",
   "execution_count": 64,
   "metadata": {
    "colab": {
     "base_uri": "https://localhost:8080/",
     "height": 510
    },
    "executionInfo": {
     "elapsed": 1489,
     "status": "ok",
     "timestamp": 1601277546153,
     "user": {
      "displayName": "kishu rai",
      "photoUrl": "",
      "userId": "03084149204407627434"
     },
     "user_tz": -330
    },
    "id": "liDOu_IzHeIo",
    "outputId": "3cb91f96-82b4-4abd-9bdc-3bf11e430b2e"
   },
   "outputs": [
    {
     "name": "stdout",
     "output_type": "stream",
     "text": [
      "Model: \"functional_3\"\n",
      "__________________________________________________________________________________________________\n",
      "Layer (type)                    Output Shape         Param #     Connected to                     \n",
      "==================================================================================================\n",
      "input_3 (InputLayer)            [(None, 35)]         0                                            \n",
      "__________________________________________________________________________________________________\n",
      "input_2 (InputLayer)            [(None, 2048)]       0                                            \n",
      "__________________________________________________________________________________________________\n",
      "embedding (Embedding)           (None, 35, 50)       92400       input_3[0][0]                    \n",
      "__________________________________________________________________________________________________\n",
      "dropout (Dropout)               (None, 2048)         0           input_2[0][0]                    \n",
      "__________________________________________________________________________________________________\n",
      "dropout_1 (Dropout)             (None, 35, 50)       0           embedding[0][0]                  \n",
      "__________________________________________________________________________________________________\n",
      "dense (Dense)                   (None, 256)          524544      dropout[0][0]                    \n",
      "__________________________________________________________________________________________________\n",
      "lstm (LSTM)                     (None, 256)          314368      dropout_1[0][0]                  \n",
      "__________________________________________________________________________________________________\n",
      "add (Add)                       (None, 256)          0           dense[0][0]                      \n",
      "                                                                 lstm[0][0]                       \n",
      "__________________________________________________________________________________________________\n",
      "dense_1 (Dense)                 (None, 256)          65792       add[0][0]                        \n",
      "__________________________________________________________________________________________________\n",
      "dense_2 (Dense)                 (None, 1848)         474936      dense_1[0][0]                    \n",
      "==================================================================================================\n",
      "Total params: 1,472,040\n",
      "Trainable params: 1,472,040\n",
      "Non-trainable params: 0\n",
      "__________________________________________________________________________________________________\n"
     ]
    }
   ],
   "source": [
    "model.summary()"
   ]
  },
  {
   "cell_type": "code",
   "execution_count": 65,
   "metadata": {
    "executionInfo": {
     "elapsed": 1589,
     "status": "ok",
     "timestamp": 1601277546897,
     "user": {
      "displayName": "kishu rai",
      "photoUrl": "",
      "userId": "03084149204407627434"
     },
     "user_tz": -330
    },
    "id": "Ypnme8AaHeIq"
   },
   "outputs": [],
   "source": [
    "## Important Thing - Embedding Layer\n",
    "model.layers[2].set_weights([embedding_matrix])\n",
    "model.layers[2].trainable = False"
   ]
  },
  {
   "cell_type": "code",
   "execution_count": 66,
   "metadata": {
    "executionInfo": {
     "elapsed": 1424,
     "status": "ok",
     "timestamp": 1601277548239,
     "user": {
      "displayName": "kishu rai",
      "photoUrl": "",
      "userId": "03084149204407627434"
     },
     "user_tz": -330
    },
    "id": "Q0rdIvGhHeIs"
   },
   "outputs": [],
   "source": [
    "model.compile(loss='categorical_crossentropy',optimizer=\"adam\")\n"
   ]
  },
  {
   "cell_type": "markdown",
   "metadata": {
    "id": "_i_ZqLOQHeIu"
   },
   "source": [
    "### Training of model"
   ]
  },
  {
   "cell_type": "code",
   "execution_count": 67,
   "metadata": {
    "executionInfo": {
     "elapsed": 1384,
     "status": "ok",
     "timestamp": 1601277550108,
     "user": {
      "displayName": "kishu rai",
      "photoUrl": "",
      "userId": "03084149204407627434"
     },
     "user_tz": -330
    },
    "id": "5tguAhRxHeIu"
   },
   "outputs": [],
   "source": [
    "epochs = 20\n",
    "batch_size = 3\n",
    "steps = len(train_descriptions)//batch_size"
   ]
  },
  {
   "cell_type": "code",
   "execution_count": 71,
   "metadata": {
    "executionInfo": {
     "elapsed": 1172,
     "status": "ok",
     "timestamp": 1601277631746,
     "user": {
      "displayName": "kishu rai",
      "photoUrl": "",
      "userId": "03084149204407627434"
     },
     "user_tz": -330
    },
    "id": "-D3_eploHeIw"
   },
   "outputs": [],
   "source": [
    "def train():\n",
    "    \n",
    "    for i in range(epochs):\n",
    "        generator = data_generator(train_descriptions,encoding_train,word_to_idx,max_len,batch_size)\n",
    "        model.fit_generator(generator,epochs=1,steps_per_epoch=steps,verbose=1)\n",
    "        model.save('./model_weights/model_'+str(i)+'.h5')\n",
    "\n"
   ]
  },
  {
   "cell_type": "code",
   "execution_count": 72,
   "metadata": {
    "colab": {
     "base_uri": "https://localhost:8080/",
     "height": 357
    },
    "executionInfo": {
     "elapsed": 729320,
     "status": "ok",
     "timestamp": 1601278599126,
     "user": {
      "displayName": "kishu rai",
      "photoUrl": "",
      "userId": "03084149204407627434"
     },
     "user_tz": -330
    },
    "id": "9uIKxGuo3MeL",
    "outputId": "e246d3de-9a04-42af-f2d9-8eca147d3254"
   },
   "outputs": [
    {
     "name": "stdout",
     "output_type": "stream",
     "text": [
      "2000/2000 [==============================] - 49s 25ms/step - loss: 3.5849\n",
      "2000/2000 [==============================] - 49s 24ms/step - loss: 3.3327\n",
      "2000/2000 [==============================] - 49s 25ms/step - loss: 3.1761\n",
      "2000/2000 [==============================] - 48s 24ms/step - loss: 3.0682\n",
      "2000/2000 [==============================] - 50s 25ms/step - loss: 2.9812\n",
      "2000/2000 [==============================] - 49s 25ms/step - loss: 2.9167\n",
      "2000/2000 [==============================] - 49s 25ms/step - loss: 2.8595\n",
      "2000/2000 [==============================] - 48s 24ms/step - loss: 2.8141\n",
      "2000/2000 [==============================] - 48s 24ms/step - loss: 2.7754\n",
      "2000/2000 [==============================] - 47s 24ms/step - loss: 2.7395\n",
      "2000/2000 [==============================] - 48s 24ms/step - loss: 2.7116\n",
      "2000/2000 [==============================] - 48s 24ms/step - loss: 2.6841\n",
      "2000/2000 [==============================] - 47s 24ms/step - loss: 2.6618\n",
      "2000/2000 [==============================] - 48s 24ms/step - loss: 2.6403\n",
      "2000/2000 [==============================] - 48s 24ms/step - loss: 2.6200\n",
      "2000/2000 [==============================] - 48s 24ms/step - loss: 2.6034\n",
      "2000/2000 [==============================] - 48s 24ms/step - loss: 2.5870\n",
      "2000/2000 [==============================] - 47s 24ms/step - loss: 2.5713\n",
      "2000/2000 [==============================] - 47s 24ms/step - loss: 2.5581\n",
      "2000/2000 [==============================] - 48s 24ms/step - loss: 2.5444\n"
     ]
    }
   ],
   "source": [
    "train()"
   ]
  },
  {
   "cell_type": "code",
   "execution_count": 73,
   "metadata": {
    "executionInfo": {
     "elapsed": 5299,
     "status": "ok",
     "timestamp": 1601278647206,
     "user": {
      "displayName": "kishu rai",
      "photoUrl": "",
      "userId": "03084149204407627434"
     },
     "user_tz": -330
    },
    "id": "W7nrduo3HeIy"
   },
   "outputs": [],
   "source": [
    "model = load_model('./model_weights/model_9.h5')"
   ]
  },
  {
   "cell_type": "markdown",
   "metadata": {
    "id": "yK-LFTy1HeI0"
   },
   "source": [
    "### Predictions"
   ]
  },
  {
   "cell_type": "code",
   "execution_count": 70,
   "metadata": {
    "executionInfo": {
     "elapsed": 1177,
     "status": "ok",
     "timestamp": 1601277625459,
     "user": {
      "displayName": "kishu rai",
      "photoUrl": "",
      "userId": "03084149204407627434"
     },
     "user_tz": -330
    },
    "id": "EcxqLBa6HeI0"
   },
   "outputs": [],
   "source": [
    "\n",
    "!mkdir model_weights "
   ]
  },
  {
   "cell_type": "code",
   "execution_count": 74,
   "metadata": {
    "executionInfo": {
     "elapsed": 1402,
     "status": "ok",
     "timestamp": 1601278655701,
     "user": {
      "displayName": "kishu rai",
      "photoUrl": "",
      "userId": "03084149204407627434"
     },
     "user_tz": -330
    },
    "id": "WtWwSlXV3Kwi"
   },
   "outputs": [],
   "source": [
    "def predict_caption(photo):\n",
    "    \n",
    "    in_text = \"startseq\"\n",
    "    for i in range(max_len):\n",
    "        sequence = [word_to_idx[w] for w in in_text.split() if w in word_to_idx]\n",
    "        sequence = pad_sequences([sequence],maxlen=max_len,padding='post')\n",
    "        \n",
    "        ypred = model.predict([photo,sequence])\n",
    "        ypred = ypred.argmax() #WOrd with max prob always - Greedy Sampling\n",
    "        word = idx_to_word[ypred]\n",
    "        in_text += (' ' + word)\n",
    "        \n",
    "        if word == \"endseq\":\n",
    "            break\n",
    "    \n",
    "    final_caption = in_text.split()[1:-1]\n",
    "    final_caption = ' '.join(final_caption)\n",
    "    return final_caption\n"
   ]
  },
  {
   "cell_type": "code",
   "execution_count": 75,
   "metadata": {
    "colab": {
     "base_uri": "https://localhost:8080/",
     "height": 1000,
     "output_embedded_package_id": "1T1rHO5GqIh0Z15Fs_Dt3uGQYREt6YLop"
    },
    "executionInfo": {
     "elapsed": 16452,
     "status": "ok",
     "timestamp": 1601278673291,
     "user": {
      "displayName": "kishu rai",
      "photoUrl": "",
      "userId": "03084149204407627434"
     },
     "user_tz": -330
    },
    "id": "HlBQbFEt_Ip1",
    "outputId": "00d015d1-30b2-461a-e6e7-56b24c514f41"
   },
   "outputs": [
    {
     "data": {
      "text/plain": [
       "Output hidden; open in https://colab.research.google.com to view."
      ]
     },
     "metadata": {},
     "output_type": "display_data"
    }
   ],
   "source": [
    "# Pick Some Random Images and See Results\n",
    "plt.style.use(\"seaborn\")\n",
    "for i in range(15):\n",
    "    idx = np.random.randint(0,1000)\n",
    "    all_img_names = list(encoding_test.keys())\n",
    "    img_name = all_img_names[idx]\n",
    "    photo_2048 = encoding_test[img_name].reshape((1,2048))\n",
    "    \n",
    "    i = plt.imread(\"Image captioning/Flickr_Data/Flickr_Data/Images/\"+img_name+\".jpg\")\n",
    "    \n",
    "    caption = predict_caption(photo_2048)\n",
    "    #print(caption)\n",
    "    \n",
    "    plt.title(caption)\n",
    "    plt.imshow(i)\n",
    "    plt.axis(\"off\")\n",
    "    plt.show()"
   ]
  },
  {
   "cell_type": "code",
   "execution_count": null,
   "metadata": {
    "id": "2-pdgUFTAvAx"
   },
   "outputs": [],
   "source": []
  }
 ],
 "metadata": {
  "accelerator": "GPU",
  "colab": {
   "collapsed_sections": [
    "kk3LfdWRHeHI",
    "W-rRi81_HeIh",
    "_i_ZqLOQHeIu",
    "yK-LFTy1HeI0"
   ],
   "name": "Image captioning Bot (1).ipynb",
   "provenance": []
  },
  "kernelspec": {
   "display_name": "Python 3",
   "language": "python",
   "name": "python3"
  },
  "language_info": {
   "codemirror_mode": {
    "name": "ipython",
    "version": 3
   },
   "file_extension": ".py",
   "mimetype": "text/x-python",
   "name": "python",
   "nbconvert_exporter": "python",
   "pygments_lexer": "ipython3",
   "version": "3.7.6"
  }
 },
 "nbformat": 4,
 "nbformat_minor": 1
}
